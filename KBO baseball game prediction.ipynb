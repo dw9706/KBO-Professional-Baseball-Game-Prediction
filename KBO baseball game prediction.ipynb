{
 "cells": [
  {
   "cell_type": "code",
   "execution_count": 163,
   "id": "0cb6a709",
   "metadata": {},
   "outputs": [],
   "source": [
    "import pandas as pd\n",
    "import tensorflow as tf\n",
    "from sklearn.preprocessing import StandardScaler\n",
    "import numpy as np\n",
    "from sklearn.decomposition import PCA\n",
    "from sklearn.model_selection import train_test_split\n",
    "from sklearn.preprocessing import MinMaxScaler, StandardScaler\n",
    "from tensorflow import keras\n",
    "from tensorflow.keras.utils import to_categorical\n",
    "from tensorflow.keras.layers import Dense, Input, Flatten , Concatenate\n",
    "from tensorflow.keras.models import Sequential, Model, load_model\n",
    "from tensorflow.keras.utils import plot_model #모델 시각화 \n",
    "from tensorflow.keras.optimizers import Adam\n",
    "from tensorflow.keras.callbacks import ModelCheckpoint, EarlyStopping, LearningRateScheduler, TensorBoard\n",
    "\n",
    "\n",
    "tf.config.run_functions_eagerly(False)\n",
    "\n"
   ]
  },
  {
   "cell_type": "markdown",
   "id": "b4f1e863",
   "metadata": {},
   "source": [
    "## 데이터 불러오기\n",
    "- 앞서 크롤링하여 엑셀에 저장한 파일을 불러온다."
   ]
  },
  {
   "cell_type": "code",
   "execution_count": 164,
   "id": "729929ad",
   "metadata": {
    "scrolled": true
   },
   "outputs": [],
   "source": [
    "data_df = pd.read_excel('baseball_data.xlsx')\n",
    "target_df = pd.read_excel('label.xlsx')\n",
    "try:\n",
    "    del data_df['Unnamed: 0']\n",
    "    del target_df['Unnamed: 0']\n",
    "except:\n",
    "    pass\n"
   ]
  },
  {
   "cell_type": "markdown",
   "id": "0389ef69",
   "metadata": {},
   "source": [
    "## 훈련세트, 검증세트, 테스트세트 분리\n",
    "- 8:2비율로 훈련세트, 테스트 세트를 분리하고 또 다시 8:2로 훈련세트, 검증세트를 분리한다."
   ]
  },
  {
   "cell_type": "code",
   "execution_count": 165,
   "id": "61cc75dc",
   "metadata": {},
   "outputs": [
    {
     "data": {
      "text/html": [
       "<div>\n",
       "<style scoped>\n",
       "    .dataframe tbody tr th:only-of-type {\n",
       "        vertical-align: middle;\n",
       "    }\n",
       "\n",
       "    .dataframe tbody tr th {\n",
       "        vertical-align: top;\n",
       "    }\n",
       "\n",
       "    .dataframe thead th {\n",
       "        text-align: right;\n",
       "    }\n",
       "</style>\n",
       "<table border=\"1\" class=\"dataframe\">\n",
       "  <thead>\n",
       "    <tr style=\"text-align: right;\">\n",
       "      <th></th>\n",
       "      <th>타석</th>\n",
       "      <th>타수</th>\n",
       "      <th>안타</th>\n",
       "      <th>홈런</th>\n",
       "      <th>볼넷</th>\n",
       "      <th>사구</th>\n",
       "      <th>삼진</th>\n",
       "      <th>땅볼</th>\n",
       "      <th>플라이</th>\n",
       "      <th>팀타율</th>\n",
       "      <th>출루율</th>\n",
       "      <th>잔루</th>\n",
       "      <th>상대선발투수ERA</th>\n",
       "      <th>상대선발투수WHIP</th>\n",
       "    </tr>\n",
       "  </thead>\n",
       "  <tbody>\n",
       "    <tr>\n",
       "      <th>1362</th>\n",
       "      <td>42</td>\n",
       "      <td>34</td>\n",
       "      <td>10</td>\n",
       "      <td>2</td>\n",
       "      <td>6</td>\n",
       "      <td>1</td>\n",
       "      <td>9</td>\n",
       "      <td>9</td>\n",
       "      <td>6</td>\n",
       "      <td>0.294118</td>\n",
       "      <td>0.309091</td>\n",
       "      <td>9</td>\n",
       "      <td>9.55</td>\n",
       "      <td>2.19</td>\n",
       "    </tr>\n",
       "    <tr>\n",
       "      <th>3844</th>\n",
       "      <td>37</td>\n",
       "      <td>33</td>\n",
       "      <td>7</td>\n",
       "      <td>0</td>\n",
       "      <td>2</td>\n",
       "      <td>2</td>\n",
       "      <td>12</td>\n",
       "      <td>8</td>\n",
       "      <td>6</td>\n",
       "      <td>0.212121</td>\n",
       "      <td>0.234043</td>\n",
       "      <td>12</td>\n",
       "      <td>4.56</td>\n",
       "      <td>1.51</td>\n",
       "    </tr>\n",
       "    <tr>\n",
       "      <th>3695</th>\n",
       "      <td>37</td>\n",
       "      <td>34</td>\n",
       "      <td>7</td>\n",
       "      <td>1</td>\n",
       "      <td>3</td>\n",
       "      <td>0</td>\n",
       "      <td>10</td>\n",
       "      <td>9</td>\n",
       "      <td>8</td>\n",
       "      <td>0.205882</td>\n",
       "      <td>0.208333</td>\n",
       "      <td>19</td>\n",
       "      <td>2.45</td>\n",
       "      <td>1.17</td>\n",
       "    </tr>\n",
       "    <tr>\n",
       "      <th>3424</th>\n",
       "      <td>37</td>\n",
       "      <td>35</td>\n",
       "      <td>10</td>\n",
       "      <td>1</td>\n",
       "      <td>1</td>\n",
       "      <td>1</td>\n",
       "      <td>10</td>\n",
       "      <td>9</td>\n",
       "      <td>6</td>\n",
       "      <td>0.285714</td>\n",
       "      <td>0.266667</td>\n",
       "      <td>15</td>\n",
       "      <td>6.57</td>\n",
       "      <td>1.91</td>\n",
       "    </tr>\n",
       "    <tr>\n",
       "      <th>2934</th>\n",
       "      <td>46</td>\n",
       "      <td>38</td>\n",
       "      <td>11</td>\n",
       "      <td>0</td>\n",
       "      <td>7</td>\n",
       "      <td>1</td>\n",
       "      <td>7</td>\n",
       "      <td>12</td>\n",
       "      <td>8</td>\n",
       "      <td>0.289474</td>\n",
       "      <td>0.306452</td>\n",
       "      <td>30</td>\n",
       "      <td>4.82</td>\n",
       "      <td>1.35</td>\n",
       "    </tr>\n",
       "    <tr>\n",
       "      <th>...</th>\n",
       "      <td>...</td>\n",
       "      <td>...</td>\n",
       "      <td>...</td>\n",
       "      <td>...</td>\n",
       "      <td>...</td>\n",
       "      <td>...</td>\n",
       "      <td>...</td>\n",
       "      <td>...</td>\n",
       "      <td>...</td>\n",
       "      <td>...</td>\n",
       "      <td>...</td>\n",
       "      <td>...</td>\n",
       "      <td>...</td>\n",
       "      <td>...</td>\n",
       "    </tr>\n",
       "    <tr>\n",
       "      <th>3532</th>\n",
       "      <td>37</td>\n",
       "      <td>36</td>\n",
       "      <td>11</td>\n",
       "      <td>1</td>\n",
       "      <td>0</td>\n",
       "      <td>1</td>\n",
       "      <td>6</td>\n",
       "      <td>6</td>\n",
       "      <td>13</td>\n",
       "      <td>0.305556</td>\n",
       "      <td>0.235294</td>\n",
       "      <td>11</td>\n",
       "      <td>2.72</td>\n",
       "      <td>1.11</td>\n",
       "    </tr>\n",
       "    <tr>\n",
       "      <th>84</th>\n",
       "      <td>39</td>\n",
       "      <td>36</td>\n",
       "      <td>10</td>\n",
       "      <td>0</td>\n",
       "      <td>2</td>\n",
       "      <td>0</td>\n",
       "      <td>7</td>\n",
       "      <td>9</td>\n",
       "      <td>10</td>\n",
       "      <td>0.277778</td>\n",
       "      <td>0.235294</td>\n",
       "      <td>15</td>\n",
       "      <td>1.83</td>\n",
       "      <td>1.00</td>\n",
       "    </tr>\n",
       "    <tr>\n",
       "      <th>1600</th>\n",
       "      <td>48</td>\n",
       "      <td>44</td>\n",
       "      <td>19</td>\n",
       "      <td>1</td>\n",
       "      <td>4</td>\n",
       "      <td>0</td>\n",
       "      <td>12</td>\n",
       "      <td>7</td>\n",
       "      <td>6</td>\n",
       "      <td>0.431818</td>\n",
       "      <td>0.396552</td>\n",
       "      <td>22</td>\n",
       "      <td>8.10</td>\n",
       "      <td>2.10</td>\n",
       "    </tr>\n",
       "    <tr>\n",
       "      <th>1287</th>\n",
       "      <td>36</td>\n",
       "      <td>34</td>\n",
       "      <td>9</td>\n",
       "      <td>2</td>\n",
       "      <td>2</td>\n",
       "      <td>0</td>\n",
       "      <td>8</td>\n",
       "      <td>5</td>\n",
       "      <td>12</td>\n",
       "      <td>0.264706</td>\n",
       "      <td>0.220000</td>\n",
       "      <td>13</td>\n",
       "      <td>4.35</td>\n",
       "      <td>1.43</td>\n",
       "    </tr>\n",
       "    <tr>\n",
       "      <th>2020</th>\n",
       "      <td>30</td>\n",
       "      <td>28</td>\n",
       "      <td>6</td>\n",
       "      <td>2</td>\n",
       "      <td>1</td>\n",
       "      <td>0</td>\n",
       "      <td>5</td>\n",
       "      <td>12</td>\n",
       "      <td>5</td>\n",
       "      <td>0.214286</td>\n",
       "      <td>0.194444</td>\n",
       "      <td>7</td>\n",
       "      <td>7.46</td>\n",
       "      <td>2.01</td>\n",
       "    </tr>\n",
       "  </tbody>\n",
       "</table>\n",
       "<p>2464 rows × 14 columns</p>\n",
       "</div>"
      ],
      "text/plain": [
       "      타석  타수  안타  홈런  볼넷  사구  삼진  땅볼  플라이       팀타율       출루율  잔루  상대선발투수ERA  \\\n",
       "1362  42  34  10   2   6   1   9   9    6  0.294118  0.309091   9       9.55   \n",
       "3844  37  33   7   0   2   2  12   8    6  0.212121  0.234043  12       4.56   \n",
       "3695  37  34   7   1   3   0  10   9    8  0.205882  0.208333  19       2.45   \n",
       "3424  37  35  10   1   1   1  10   9    6  0.285714  0.266667  15       6.57   \n",
       "2934  46  38  11   0   7   1   7  12    8  0.289474  0.306452  30       4.82   \n",
       "...   ..  ..  ..  ..  ..  ..  ..  ..  ...       ...       ...  ..        ...   \n",
       "3532  37  36  11   1   0   1   6   6   13  0.305556  0.235294  11       2.72   \n",
       "84    39  36  10   0   2   0   7   9   10  0.277778  0.235294  15       1.83   \n",
       "1600  48  44  19   1   4   0  12   7    6  0.431818  0.396552  22       8.10   \n",
       "1287  36  34   9   2   2   0   8   5   12  0.264706  0.220000  13       4.35   \n",
       "2020  30  28   6   2   1   0   5  12    5  0.214286  0.194444   7       7.46   \n",
       "\n",
       "      상대선발투수WHIP  \n",
       "1362        2.19  \n",
       "3844        1.51  \n",
       "3695        1.17  \n",
       "3424        1.91  \n",
       "2934        1.35  \n",
       "...          ...  \n",
       "3532        1.11  \n",
       "84          1.00  \n",
       "1600        2.10  \n",
       "1287        1.43  \n",
       "2020        2.01  \n",
       "\n",
       "[2464 rows x 14 columns]"
      ]
     },
     "metadata": {},
     "output_type": "display_data"
    }
   ],
   "source": [
    "#훈련세트, 검증세트, 테스트세트 분리 \n",
    "X_full_set, X_test=  train_test_split(data_df, test_size = 0.2, random_state = 7)\n",
    "y_full_set, y_test = train_test_split(target_df, test_size = 0.2, random_state = 7)\n",
    "x_train, x_val, y_train, y_val = train_test_split(X_full_set,y_full_set, test_size=0.2, random_state=7)\n",
    "display(x_train)"
   ]
  },
  {
   "cell_type": "markdown",
   "id": "7f4cc53c",
   "metadata": {},
   "source": [
    "## 데이터 전처리\n",
    "- min-max 스케일링(정규화) 와 표준화 둘 중 더 좋은걸로 선택\n",
    "- 전처리 하지 않는걸로..."
   ]
  },
  {
   "cell_type": "code",
   "execution_count": 166,
   "id": "b3ec4b9c",
   "metadata": {},
   "outputs": [],
   "source": [
    "#데이터 정규화\n",
    "#scaler = StandardScaler() \n",
    "#mms = MinMaxScaler()\n",
    "\n",
    "#x_train = scaler.fit_transform(x_train)\n",
    "#x_val=scaler.fit_transform(x_val)\n",
    "#X_test=scaler.fit_transform(X_test)\n",
    "#x_val=scaler.fit_transform(x_val)"
   ]
  },
  {
   "cell_type": "code",
   "execution_count": 167,
   "id": "b105bfe2",
   "metadata": {},
   "outputs": [],
   "source": [
    "#차원축소\n",
    "#pca = PCA(n_components=7)\n",
    "#X_train = pca.fit_transform(X_train)\n",
    "#X_valid = pca.fit_transform(X_valid)\n"
   ]
  },
  {
   "cell_type": "markdown",
   "id": "0c898b44",
   "metadata": {},
   "source": [
    "## 모델 만들기\n",
    "- 모델(점수예측)은 회귀모델이기 때문에 출력층에 활성화함수를 지정하지 않았다."
   ]
  },
  {
   "cell_type": "code",
   "execution_count": 168,
   "id": "61060c4b",
   "metadata": {},
   "outputs": [],
   "source": [
    "#모델 만들기\n",
    "input = Input(shape=(14,),name='input')\n",
    "hidden1 = Dense(400,activation='relu',name='hidden1')(input)\n",
    "hidden2 = Dense(200,activation='relu',name='hidden2')(hidden1)\n",
    "hidden3= Dense(50,activation='relu',name='hidden3')(hidden2)\n",
    "hidden4 = Dense(30,activation='relu',name='hidden_4')(hidden3)\n",
    "output = Dense(1,name='output')(hidden4)\n",
    "\n",
    "\n",
    "model = Model(inputs=input,outputs=output)\n",
    "\n"
   ]
  },
  {
   "cell_type": "markdown",
   "id": "26e196c6",
   "metadata": {},
   "source": [
    "## 모델컴파일\n",
    "- 회귀문제 : MSE(loss) , MAE(eval)\n",
    "- 이진분류문제 : binary cross entropy(loss) , accuracy(eval)"
   ]
  },
  {
   "cell_type": "code",
   "execution_count": 169,
   "id": "81504861",
   "metadata": {},
   "outputs": [],
   "source": [
    "model.compile(loss='mse',\n",
    "              optimizer=Adam(learning_rate=1e-2),metrics=['mae'])\n"
   ]
  },
  {
   "cell_type": "markdown",
   "id": "65b01b29",
   "metadata": {},
   "source": [
    "# 텐서보드"
   ]
  },
  {
   "cell_type": "code",
   "execution_count": 170,
   "id": "d5a3ebf1",
   "metadata": {},
   "outputs": [
    {
     "data": {
      "text/plain": [
       "<keras.callbacks.TensorBoard at 0x1dd21748ee0>"
      ]
     },
     "execution_count": 170,
     "metadata": {},
     "output_type": "execute_result"
    }
   ],
   "source": [
    "TensorBoard(log_dir='.logs', histogram_freq=0, write_graph=True, write_images=True)"
   ]
  },
  {
   "cell_type": "code",
   "execution_count": 171,
   "id": "0c62ed66",
   "metadata": {},
   "outputs": [],
   "source": [
    "log_dir='./logs'\n",
    "tensor_board_cb = [TensorBoard(log_dir=log_dir, histogram_freq=1,write_graph=True,write_images=True)]"
   ]
  },
  {
   "cell_type": "markdown",
   "id": "730f6c0c",
   "metadata": {},
   "source": [
    "## 모델학습 및 저장"
   ]
  },
  {
   "cell_type": "code",
   "execution_count": 172,
   "id": "c406fe21",
   "metadata": {},
   "outputs": [
    {
     "name": "stdout",
     "output_type": "stream",
     "text": [
      "Epoch 1/100\n",
      "83/83 [==============================] - 2s 9ms/step - loss: 12.7819 - mae: 2.2486 - val_loss: 3.8592 - val_mae: 1.4991\n",
      "Epoch 2/100\n",
      "83/83 [==============================] - 0s 5ms/step - loss: 3.0777 - mae: 1.3662 - val_loss: 3.8764 - val_mae: 1.4881\n",
      "Epoch 3/100\n",
      "83/83 [==============================] - 0s 6ms/step - loss: 2.7988 - mae: 1.2954 - val_loss: 3.5966 - val_mae: 1.4425\n",
      "Epoch 4/100\n",
      "83/83 [==============================] - 0s 5ms/step - loss: 2.6696 - mae: 1.2754 - val_loss: 2.5110 - val_mae: 1.2156\n",
      "Epoch 5/100\n",
      "83/83 [==============================] - 0s 5ms/step - loss: 3.1662 - mae: 1.3818 - val_loss: 3.0703 - val_mae: 1.3260\n",
      "Epoch 6/100\n",
      "83/83 [==============================] - 0s 4ms/step - loss: 2.7061 - mae: 1.2856 - val_loss: 2.8457 - val_mae: 1.2769\n",
      "Epoch 7/100\n",
      "83/83 [==============================] - 0s 4ms/step - loss: 2.6577 - mae: 1.2619 - val_loss: 2.5338 - val_mae: 1.2220\n",
      "Epoch 8/100\n",
      "83/83 [==============================] - 0s 5ms/step - loss: 2.7666 - mae: 1.2963 - val_loss: 3.6759 - val_mae: 1.4441\n",
      "Epoch 9/100\n",
      "83/83 [==============================] - 0s 5ms/step - loss: 2.7678 - mae: 1.2904 - val_loss: 2.5058 - val_mae: 1.2370\n",
      "Epoch 10/100\n",
      "83/83 [==============================] - 0s 5ms/step - loss: 2.4777 - mae: 1.2269 - val_loss: 3.3244 - val_mae: 1.4627\n",
      "Epoch 11/100\n",
      "83/83 [==============================] - 0s 5ms/step - loss: 2.8399 - mae: 1.3130 - val_loss: 3.6783 - val_mae: 1.5594\n",
      "Epoch 12/100\n",
      "83/83 [==============================] - 0s 4ms/step - loss: 3.1505 - mae: 1.3765 - val_loss: 2.9178 - val_mae: 1.3765\n",
      "Epoch 13/100\n",
      "83/83 [==============================] - 0s 5ms/step - loss: 2.6160 - mae: 1.2575 - val_loss: 2.4673 - val_mae: 1.2282\n",
      "Epoch 14/100\n",
      "83/83 [==============================] - 0s 5ms/step - loss: 2.6075 - mae: 1.2412 - val_loss: 3.0075 - val_mae: 1.3091\n",
      "Epoch 15/100\n",
      "83/83 [==============================] - 0s 5ms/step - loss: 2.6125 - mae: 1.2626 - val_loss: 2.5549 - val_mae: 1.2218\n",
      "Epoch 16/100\n",
      "83/83 [==============================] - 0s 5ms/step - loss: 2.5193 - mae: 1.2292 - val_loss: 2.4037 - val_mae: 1.2059\n",
      "Epoch 17/100\n",
      "83/83 [==============================] - 0s 5ms/step - loss: 2.4598 - mae: 1.2191 - val_loss: 2.4569 - val_mae: 1.2018\n",
      "Epoch 18/100\n",
      "83/83 [==============================] - 0s 5ms/step - loss: 2.9500 - mae: 1.3197 - val_loss: 2.5223 - val_mae: 1.2521\n",
      "Epoch 19/100\n",
      "83/83 [==============================] - 0s 5ms/step - loss: 2.5727 - mae: 1.2432 - val_loss: 2.4048 - val_mae: 1.2018\n",
      "Epoch 20/100\n",
      "83/83 [==============================] - 0s 5ms/step - loss: 2.6399 - mae: 1.2455 - val_loss: 3.0186 - val_mae: 1.3779\n",
      "Epoch 21/100\n",
      "83/83 [==============================] - 0s 5ms/step - loss: 2.6062 - mae: 1.2491 - val_loss: 2.5520 - val_mae: 1.2391\n",
      "Epoch 22/100\n",
      "83/83 [==============================] - 0s 5ms/step - loss: 2.6017 - mae: 1.2507 - val_loss: 2.3867 - val_mae: 1.2032\n",
      "Epoch 23/100\n",
      "83/83 [==============================] - 0s 5ms/step - loss: 2.7001 - mae: 1.2785 - val_loss: 2.4353 - val_mae: 1.2019\n",
      "Epoch 24/100\n",
      "83/83 [==============================] - 0s 5ms/step - loss: 2.4961 - mae: 1.2222 - val_loss: 2.5173 - val_mae: 1.2275\n",
      "Epoch 25/100\n",
      "83/83 [==============================] - 0s 5ms/step - loss: 2.5459 - mae: 1.2392 - val_loss: 2.5732 - val_mae: 1.2202\n",
      "Epoch 26/100\n",
      "83/83 [==============================] - 0s 5ms/step - loss: 2.5281 - mae: 1.2337 - val_loss: 2.5149 - val_mae: 1.2438\n",
      "Epoch 27/100\n",
      "83/83 [==============================] - 0s 5ms/step - loss: 2.6232 - mae: 1.2672 - val_loss: 2.4887 - val_mae: 1.2076\n",
      "Epoch 28/100\n",
      "83/83 [==============================] - 0s 4ms/step - loss: 2.4981 - mae: 1.2230 - val_loss: 2.5237 - val_mae: 1.2136\n",
      "Epoch 29/100\n",
      "83/83 [==============================] - 0s 4ms/step - loss: 2.4426 - mae: 1.2138 - val_loss: 2.4815 - val_mae: 1.2045\n",
      "Epoch 30/100\n",
      "83/83 [==============================] - 0s 5ms/step - loss: 2.6953 - mae: 1.2751 - val_loss: 2.5052 - val_mae: 1.2177\n",
      "Epoch 31/100\n",
      "83/83 [==============================] - 0s 5ms/step - loss: 2.7785 - mae: 1.2960 - val_loss: 2.8105 - val_mae: 1.2683\n",
      "Epoch 32/100\n",
      "83/83 [==============================] - 0s 5ms/step - loss: 2.5725 - mae: 1.2447 - val_loss: 2.9284 - val_mae: 1.3491\n"
     ]
    }
   ],
   "source": [
    "#최상의 모델을 저장 \n",
    "cp= ModelCheckpoint('score_predict_best_model.h5', save_best_only=True)\n",
    "early_Stopping_cb = EarlyStopping(patience=10, monitor='val_loss',restore_best_weights=True)\n",
    "history = model.fit(x_train,\n",
    "                    y_train,\n",
    "                    epochs=100, batch_size=30, validation_data=(x_val,y_val), callbacks=[cp,early_Stopping_cb,tensor_board_cb])\n"
   ]
  },
  {
   "cell_type": "code",
   "execution_count": 173,
   "id": "c4f8e9ae",
   "metadata": {},
   "outputs": [
    {
     "data": {
      "text/html": [
       "\n",
       "      <iframe id=\"tensorboard-frame-8f65befbd960029e\" width=\"100%\" height=\"800\" frameborder=\"0\">\n",
       "      </iframe>\n",
       "      <script>\n",
       "        (function() {\n",
       "          const frame = document.getElementById(\"tensorboard-frame-8f65befbd960029e\");\n",
       "          const url = new URL(\"/\", window.location);\n",
       "          const port = 6006;\n",
       "          if (port) {\n",
       "            url.port = port;\n",
       "          }\n",
       "          frame.src = url;\n",
       "        })();\n",
       "      </script>\n",
       "    "
      ],
      "text/plain": [
       "<IPython.core.display.HTML object>"
      ]
     },
     "metadata": {},
     "output_type": "display_data"
    }
   ],
   "source": [
    "%load_ext tensorboard\n",
    "%tensorboard --logdir {log_dir}"
   ]
  },
  {
   "cell_type": "markdown",
   "id": "72e472c7",
   "metadata": {},
   "source": [
    "## 모델 평가"
   ]
  },
  {
   "cell_type": "code",
   "execution_count": 174,
   "id": "c2fb1ff5",
   "metadata": {},
   "outputs": [
    {
     "name": "stdout",
     "output_type": "stream",
     "text": [
      "25/25 [==============================] - 0s 1ms/step - loss: 2.3788 - mae: 1.1869\n"
     ]
    },
    {
     "data": {
      "text/plain": [
       "[2.3788340091705322, 1.186936378479004]"
      ]
     },
     "execution_count": 174,
     "metadata": {},
     "output_type": "execute_result"
    }
   ],
   "source": [
    "model.evaluate(X_test,y_test)\n"
   ]
  },
  {
   "cell_type": "markdown",
   "id": "e168bdf1",
   "metadata": {},
   "source": [
    "## 예측\n",
    "- 학습하지 않은 22년 10월 8일 3경기의 데이터를 예측하고자 한다.\n",
    "- 단 이때 22년 10월 8일의 경기가 진행되지 않음을 가정하고 예측을 진행한다. 스코어예측이나 점수예측은 주로 경기 전에 진행되는\n",
    "  특성을 따른 것.\n",
    "- 때문에 모델에 input으로 들어가는 데이터는 각 구단의 직전 3경기의 평균값을 입력하고 실제 22년 10월 8일의 데이터와 비교한다.\n",
    "- 선발투수는 경기전 확정된 선발투수의 데이터로 입력값을 넣는다(직전 3경기 평균값X 당일 데이터O)\n",
    "|22-10-8|A구단 점수|B구단 점수|\n",
    "|------|----------|----------|\n",
    "|SSG(A) : 삼성(B)|1|6|\n",
    "|키움 : 두산|5|1|\n",
    "|한화 : NC|5|6|\n"
   ]
  },
  {
   "cell_type": "code",
   "execution_count": 175,
   "id": "c2ddeeb3",
   "metadata": {
    "scrolled": false
   },
   "outputs": [
    {
     "name": "stdout",
     "output_type": "stream",
     "text": [
      "1/1 [==============================] - 0s 161ms/step\n",
      "1/1 [==============================] - 0s 70ms/step\n",
      "1/1 [==============================] - 0s 79ms/step\n",
      "SSG 예측점수:[1.7606862]\n",
      "삼성 예측점수:[5.3365083]\n",
      "두산 예측점수:[3.9001179]\n",
      "키움 예측점수:[6.48838]\n",
      "한화 예측점수:[4.058975]\n",
      "NC 예측점수:[3.8667593]\n"
     ]
    }
   ],
   "source": [
    "#예측1 SSG:삼성\n",
    "SSG =[36.3,33.6,6.6,1,2.3,0,9.6,10,7.6,0.196,0.153,18,2.49,1.16]\n",
    "samsung = [41.6,38.6,12.6,0.3,2.3,0,8,8.6,9.3,0.325,0.252,19,6.00,1.52]\n",
    "dusan = [34.6,32.6,9.3,1,1.3,0,6.3,8,9,0.282,0.213,11.6,3.60,1.33]\n",
    "kiwum = [50,44,12,1,5.3,0.6,8.6,11.6,11.6,0.268,0.213,21.6,2.11,0.95]\n",
    "hanwha = [42.6,34.6,9,0,5.6,1,6.3,10.6,9,0.258,0.201,24.6,4.75,1.42]\n",
    "NC = [34.3,30.6,6.6,0.3,3,2,8.6,9,7,0.216,0.198,11.6,10.64,1.91]\n",
    "\n",
    "score_SSG_samsung =model.predict([SSG,samsung])\n",
    "score_dusan_kiwum =model.predict([dusan,kiwum])\n",
    "score_hanwha_NC =model.predict([hanwha,NC])\n",
    "\n",
    "print(f\"SSG 예측점수:{score_SSG_samsung[0]}\")\n",
    "print(f\"삼성 예측점수:{score_SSG_samsung[1]}\")\n",
    "print(f\"두산 예측점수:{score_dusan_kiwum[0]}\")\n",
    "print(f\"키움 예측점수:{score_dusan_kiwum[1]}\")\n",
    "print(f\"한화 예측점수:{score_hanwha_NC[0]}\")\n",
    "print(f\"NC 예측점수:{score_hanwha_NC[1]}\")\n"
   ]
  },
  {
   "cell_type": "code",
   "execution_count": null,
   "id": "3a31b285",
   "metadata": {},
   "outputs": [],
   "source": []
  }
 ],
 "metadata": {
  "kernelspec": {
   "display_name": "Python 3 (ipykernel)",
   "language": "python",
   "name": "python3"
  },
  "language_info": {
   "codemirror_mode": {
    "name": "ipython",
    "version": 3
   },
   "file_extension": ".py",
   "mimetype": "text/x-python",
   "name": "python",
   "nbconvert_exporter": "python",
   "pygments_lexer": "ipython3",
   "version": "3.9.13"
  }
 },
 "nbformat": 4,
 "nbformat_minor": 5
}

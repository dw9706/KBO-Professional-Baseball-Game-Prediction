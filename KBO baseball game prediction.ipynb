{
 "cells": [
  {
   "cell_type": "code",
   "execution_count": 519,
   "id": "0cb6a709",
   "metadata": {},
   "outputs": [
    {
     "ename": "ModuleNotFoundError",
     "evalue": "No module named 'django'",
     "output_type": "error",
     "traceback": [
      "\u001b[1;31m---------------------------------------------------------------------------\u001b[0m",
      "\u001b[1;31mModuleNotFoundError\u001b[0m                       Traceback (most recent call last)",
      "\u001b[1;32m~\\AppData\\Local\\Temp\\ipykernel_6480\\2816080998.py\u001b[0m in \u001b[0;36m<module>\u001b[1;34m\u001b[0m\n\u001b[0;32m     13\u001b[0m \u001b[1;32mfrom\u001b[0m \u001b[0mtensorflow\u001b[0m\u001b[1;33m.\u001b[0m\u001b[0mkeras\u001b[0m\u001b[1;33m.\u001b[0m\u001b[0moptimizers\u001b[0m \u001b[1;32mimport\u001b[0m \u001b[0mAdam\u001b[0m\u001b[1;33m\u001b[0m\u001b[1;33m\u001b[0m\u001b[0m\n\u001b[0;32m     14\u001b[0m \u001b[1;32mfrom\u001b[0m \u001b[0mtensorflow\u001b[0m\u001b[1;33m.\u001b[0m\u001b[0mkeras\u001b[0m\u001b[1;33m.\u001b[0m\u001b[0mcallbacks\u001b[0m \u001b[1;32mimport\u001b[0m \u001b[0mModelCheckpoint\u001b[0m\u001b[1;33m,\u001b[0m \u001b[0mEarlyStopping\u001b[0m\u001b[1;33m,\u001b[0m \u001b[0mLearningRateScheduler\u001b[0m\u001b[1;33m,\u001b[0m \u001b[0mTensorBoard\u001b[0m\u001b[1;33m\u001b[0m\u001b[1;33m\u001b[0m\u001b[0m\n\u001b[1;32m---> 15\u001b[1;33m \u001b[1;32mfrom\u001b[0m \u001b[0mdjango\u001b[0m\u001b[1;33m.\u001b[0m\u001b[0mdb\u001b[0m \u001b[1;32mimport\u001b[0m \u001b[0mmodels\u001b[0m\u001b[1;33m\u001b[0m\u001b[1;33m\u001b[0m\u001b[0m\n\u001b[0m\u001b[0;32m     16\u001b[0m \u001b[1;33m\u001b[0m\u001b[0m\n\u001b[0;32m     17\u001b[0m \u001b[0mtf\u001b[0m\u001b[1;33m.\u001b[0m\u001b[0mconfig\u001b[0m\u001b[1;33m.\u001b[0m\u001b[0mrun_functions_eagerly\u001b[0m\u001b[1;33m(\u001b[0m\u001b[1;32mFalse\u001b[0m\u001b[1;33m)\u001b[0m\u001b[1;33m\u001b[0m\u001b[1;33m\u001b[0m\u001b[0m\n",
      "\u001b[1;31mModuleNotFoundError\u001b[0m: No module named 'django'"
     ]
    }
   ],
   "source": [
    "import pandas as pd\n",
    "import tensorflow as tf\n",
    "from sklearn.preprocessing import StandardScaler\n",
    "import numpy as np\n",
    "from sklearn.decomposition import PCA\n",
    "from sklearn.model_selection import train_test_split\n",
    "from sklearn.preprocessing import MinMaxScaler, StandardScaler\n",
    "from tensorflow import keras\n",
    "from tensorflow.keras.utils import to_categorical\n",
    "from tensorflow.keras.layers import Dense, Input, Flatten , Concatenate\n",
    "from tensorflow.keras.models import Sequential, Model\n",
    "from tensorflow.keras.utils import plot_model #모델 시각화 \n",
    "from tensorflow.keras.optimizers import Adam\n",
    "from tensorflow.keras.callbacks import ModelCheckpoint, EarlyStopping, LearningRateScheduler, TensorBoard\n",
    "\n",
    "\n",
    "tf.config.run_functions_eagerly(False)\n",
    "\n"
   ]
  },
  {
   "cell_type": "markdown",
   "id": "b4f1e863",
   "metadata": {},
   "source": [
    "## 데이터 불러오기\n",
    "- 앞서 크롤링하여 엑셀에 저장한 파일을 불러온다."
   ]
  },
  {
   "cell_type": "code",
   "execution_count": 487,
   "id": "729929ad",
   "metadata": {
    "scrolled": true
   },
   "outputs": [],
   "source": [
    "data_df = pd.read_excel('baseball_data.xlsx')\n",
    "target_df = pd.read_excel('label.xlsx')\n",
    "try:\n",
    "    del data_df['Unnamed: 0']\n",
    "    del target_df['Unnamed: 0']\n",
    "except:\n",
    "    pass\n"
   ]
  },
  {
   "cell_type": "markdown",
   "id": "0389ef69",
   "metadata": {},
   "source": [
    "## 훈련세트, 검증세트, 테스트세트 분리\n",
    "- 8:2비율로 훈련세트, 테스트 세트를 분리하고 또 다시 8:2로 훈련세트, 검증세트를 분리한다.\n",
    "- 스코어를 예측하는 회귀모델을 위해 훈련세트, 검증세트, 테스트세트를 A팀과 B팀으로 분리한다.\n",
    "- 레이블도 A팀 스코어 레이블, B팀 스코어 레이블, 승패 레이블로 분리한다."
   ]
  },
  {
   "cell_type": "code",
   "execution_count": 488,
   "id": "61cc75dc",
   "metadata": {},
   "outputs": [],
   "source": [
    "#훈련세트, 검증세트, 테스트세트 분리 \n",
    "X_full_set, X_test=  train_test_split(data_df, test_size = 0.2, random_state = 7)\n",
    "y_full_set, y_test = train_test_split(target_df, test_size = 0.2, random_state = 7)\n",
    "x_train, x_val, y_train, y_val = train_test_split(X_full_set,y_full_set, test_size=0.2, random_state=7)\n",
    "\n",
    "#A B 나누기\n",
    "A_train = x_train.iloc[:,:14]\n",
    "B_train = x_train.iloc[:,14:]\n",
    "A_valid = x_val.iloc[:,:14]   \n",
    "B_valid = x_val.iloc[:,14:]\n",
    "A_test = X_test.iloc[:,:14]\n",
    "B_test = X_test.iloc[:,14:]\n",
    "\n",
    "winlose_target_train = pd.DataFrame(y_train['승패'])\n",
    "A_score_train = pd.DataFrame(y_train['A팀_스코어'])\n",
    "B_score_train = pd.DataFrame(y_train['B팀_스코어'])\n",
    "\n",
    "winlose_target_valid = pd.DataFrame(y_val['승패'])\n",
    "A_score_valid = pd.DataFrame(y_val['A팀_스코어'])\n",
    "B_score_valid = pd.DataFrame(y_val['B팀_스코어'])\n",
    "\n",
    "winlose_target_test = pd.DataFrame(y_test['승패'])\n",
    "A_score_test = pd.DataFrame(y_test['A팀_스코어'])\n",
    "B_score_test = pd.DataFrame(y_test['B팀_스코어'])\n",
    "\n"
   ]
  },
  {
   "cell_type": "markdown",
   "id": "7f4cc53c",
   "metadata": {},
   "source": [
    "## 데이터 전처리\n",
    "- min-max 스케일링(정규화) 와 표준화 둘 중 더 좋은걸로 선택"
   ]
  },
  {
   "cell_type": "code",
   "execution_count": 489,
   "id": "92476040",
   "metadata": {},
   "outputs": [],
   "source": [
    "#데이터 정규화\n",
    "#scaler = StandardScaler() \n",
    "#mms = MinMaxScaler()\n",
    "\n",
    "#x_train = scaler.fit_transform(x_train)\n",
    "#x_val=scaler.fit_transform(x_val)\n",
    "#X_test=scaler.transform(X_test)"
   ]
  },
  {
   "cell_type": "code",
   "execution_count": 490,
   "id": "aa4e4ddd",
   "metadata": {},
   "outputs": [],
   "source": [
    "#A_train= scaler.fit_transform(A_train)\n",
    "#B_train= scaler.fit_transform(B_train)\n",
    "\n",
    "#A_valid=scaler.fit_transform(A_valid)\n",
    "#B_valid=scaler.fit_transform(B_valid)\n",
    "\n",
    "#A_test=scaler.transform(A_test)\n",
    "#B_test=scaler.transform(B_test)"
   ]
  },
  {
   "cell_type": "code",
   "execution_count": 491,
   "id": "b105bfe2",
   "metadata": {},
   "outputs": [],
   "source": [
    "#차원축소\n",
    "#pca = PCA(n_components=7)\n",
    "#X_train = pca.fit_transform(X_train)\n",
    "#X_valid = pca.fit_transform(X_valid)\n"
   ]
  },
  {
   "cell_type": "markdown",
   "id": "0c898b44",
   "metadata": {},
   "source": [
    "## 모델 만들기"
   ]
  },
  {
   "cell_type": "code",
   "execution_count": 492,
   "id": "61060c4b",
   "metadata": {},
   "outputs": [],
   "source": [
    "#모델1 만들기\n",
    "input = Input(shape=(14,),name='input')\n",
    "hidden1 = Dense(16,activation='relu',name='hidden1')(input)\n",
    "hidden2 = Dense(8,activation='relu',name='hidden2')(hidden1)\n",
    "hidden3= Dense(4,activation='relu',name='hidden3')(hidden2)\n",
    "output = Dense(1,name='output')(hidden3)\n",
    "\n",
    "\n",
    "model_1 = Model(inputs=input,outputs=output)\n",
    "\n",
    "#모델2 만들기\n",
    "input= Input(shape=(28,),name='input')\n",
    "hidden_1 = Dense(64,activation='relu',name='hidden_1')(input)\n",
    "hidden_2 = Dense(32,activation='relu',name='hidden_2')(hidden_1)\n",
    "hidden_3 = Dense(16,activation='relu',name='hidden_3')(hidden_2)\n",
    "hidden_4 = Dense(8,activation='relu',name='hidden_4')(hidden_3)\n",
    "output = Dense(1,activation='sigmoid',name='output')(hidden_4)\n",
    "\n",
    "model_2 = Model(inputs=input,outputs=output)"
   ]
  },
  {
   "cell_type": "markdown",
   "id": "48a729ca",
   "metadata": {},
   "source": [
    "## 모델컴파일\n",
    "- 회귀문제 : MSE(loss) , MAE(eval)"
   ]
  },
  {
   "cell_type": "code",
   "execution_count": 493,
   "id": "4a1afbb0",
   "metadata": {},
   "outputs": [],
   "source": [
    "model_1.compile(loss='mse',\n",
    "              optimizer=Adam(learning_rate=1e-2),metrics=['mae'])\n",
    "\n",
    "model_2.compile(loss='binary_crossentropy', optimizer='Adam',metrics=['accuracy'])"
   ]
  },
  {
   "cell_type": "markdown",
   "id": "2171497a",
   "metadata": {},
   "source": [
    "## 모델학습"
   ]
  },
  {
   "cell_type": "code",
   "execution_count": 494,
   "id": "58bf2787",
   "metadata": {},
   "outputs": [
    {
     "name": "stdout",
     "output_type": "stream",
     "text": [
      "Epoch 1/50\n",
      "39/39 [==============================] - 1s 5ms/step - loss: 10.3894 - mae: 2.4722 - val_loss: 5.8245 - val_mae: 1.8918\n",
      "Epoch 2/50\n",
      "39/39 [==============================] - 0s 3ms/step - loss: 4.5773 - mae: 1.5873 - val_loss: 4.5990 - val_mae: 1.7582\n",
      "Epoch 3/50\n",
      "39/39 [==============================] - 0s 2ms/step - loss: 3.3056 - mae: 1.3719 - val_loss: 3.5205 - val_mae: 1.5270\n",
      "Epoch 4/50\n",
      "39/39 [==============================] - 0s 2ms/step - loss: 3.1118 - mae: 1.3370 - val_loss: 3.1509 - val_mae: 1.3504\n",
      "Epoch 5/50\n",
      "39/39 [==============================] - 0s 2ms/step - loss: 2.8986 - mae: 1.3025 - val_loss: 3.0717 - val_mae: 1.3983\n",
      "Epoch 6/50\n",
      "39/39 [==============================] - 0s 2ms/step - loss: 3.2810 - mae: 1.4138 - val_loss: 3.1201 - val_mae: 1.3469\n",
      "Epoch 7/50\n",
      "39/39 [==============================] - 0s 2ms/step - loss: 2.8990 - mae: 1.3222 - val_loss: 2.4409 - val_mae: 1.2040\n",
      "Epoch 8/50\n",
      "39/39 [==============================] - 0s 2ms/step - loss: 2.6856 - mae: 1.2649 - val_loss: 2.3394 - val_mae: 1.1838\n",
      "Epoch 9/50\n",
      "39/39 [==============================] - 0s 2ms/step - loss: 2.6831 - mae: 1.2868 - val_loss: 2.2776 - val_mae: 1.1751\n",
      "Epoch 10/50\n",
      "39/39 [==============================] - 0s 2ms/step - loss: 2.6746 - mae: 1.2921 - val_loss: 2.4695 - val_mae: 1.2256\n",
      "Epoch 11/50\n",
      "39/39 [==============================] - 0s 2ms/step - loss: 2.3557 - mae: 1.2046 - val_loss: 2.3247 - val_mae: 1.1874\n",
      "Epoch 12/50\n",
      "39/39 [==============================] - 0s 2ms/step - loss: 2.6122 - mae: 1.2606 - val_loss: 2.2629 - val_mae: 1.1865\n",
      "Epoch 13/50\n",
      "39/39 [==============================] - 0s 2ms/step - loss: 2.4162 - mae: 1.2198 - val_loss: 2.1941 - val_mae: 1.1582\n",
      "Epoch 14/50\n",
      "39/39 [==============================] - 0s 2ms/step - loss: 2.5651 - mae: 1.2586 - val_loss: 2.5628 - val_mae: 1.2368\n",
      "Epoch 15/50\n",
      "39/39 [==============================] - 0s 2ms/step - loss: 2.8191 - mae: 1.3246 - val_loss: 2.3806 - val_mae: 1.1992\n",
      "Epoch 16/50\n",
      "39/39 [==============================] - 0s 2ms/step - loss: 2.6718 - mae: 1.2790 - val_loss: 2.2084 - val_mae: 1.1588\n",
      "Epoch 17/50\n",
      "39/39 [==============================] - 0s 2ms/step - loss: 2.3368 - mae: 1.2016 - val_loss: 2.1400 - val_mae: 1.1463\n",
      "Epoch 18/50\n",
      "39/39 [==============================] - 0s 2ms/step - loss: 2.3751 - mae: 1.2120 - val_loss: 2.3492 - val_mae: 1.1897\n",
      "Epoch 19/50\n",
      "39/39 [==============================] - 0s 2ms/step - loss: 2.5994 - mae: 1.2742 - val_loss: 3.2001 - val_mae: 1.4665\n",
      "Epoch 20/50\n",
      "39/39 [==============================] - 0s 2ms/step - loss: 2.3911 - mae: 1.1989 - val_loss: 2.2976 - val_mae: 1.1759\n",
      "Epoch 21/50\n",
      "39/39 [==============================] - 0s 2ms/step - loss: 2.6760 - mae: 1.2917 - val_loss: 2.1940 - val_mae: 1.1489\n",
      "Epoch 22/50\n",
      "39/39 [==============================] - 0s 2ms/step - loss: 2.3314 - mae: 1.2033 - val_loss: 2.1466 - val_mae: 1.1398\n",
      "Epoch 23/50\n",
      "39/39 [==============================] - 0s 2ms/step - loss: 2.5214 - mae: 1.2493 - val_loss: 2.1722 - val_mae: 1.1496\n",
      "Epoch 24/50\n",
      "39/39 [==============================] - 0s 2ms/step - loss: 2.4184 - mae: 1.2148 - val_loss: 2.3033 - val_mae: 1.2027\n",
      "Epoch 25/50\n",
      "39/39 [==============================] - 0s 2ms/step - loss: 2.2810 - mae: 1.1884 - val_loss: 2.4749 - val_mae: 1.2145\n",
      "Epoch 26/50\n",
      "39/39 [==============================] - 0s 2ms/step - loss: 2.5324 - mae: 1.2498 - val_loss: 2.3218 - val_mae: 1.1782\n",
      "Epoch 27/50\n",
      "39/39 [==============================] - 0s 2ms/step - loss: 2.6978 - mae: 1.2896 - val_loss: 2.7255 - val_mae: 1.2703\n",
      "Epoch 28/50\n",
      "39/39 [==============================] - 0s 2ms/step - loss: 2.3548 - mae: 1.1912 - val_loss: 2.2745 - val_mae: 1.1700\n",
      "Epoch 29/50\n",
      "39/39 [==============================] - 0s 2ms/step - loss: 2.2621 - mae: 1.1779 - val_loss: 2.0677 - val_mae: 1.1260\n",
      "Epoch 30/50\n",
      "39/39 [==============================] - 0s 2ms/step - loss: 2.2539 - mae: 1.1747 - val_loss: 2.0571 - val_mae: 1.1206\n",
      "Epoch 31/50\n",
      "39/39 [==============================] - 0s 2ms/step - loss: 2.2193 - mae: 1.1613 - val_loss: 2.0494 - val_mae: 1.1157\n",
      "Epoch 32/50\n",
      "39/39 [==============================] - 0s 2ms/step - loss: 2.2540 - mae: 1.1759 - val_loss: 2.4060 - val_mae: 1.2001\n",
      "Epoch 33/50\n",
      "39/39 [==============================] - 0s 3ms/step - loss: 2.2611 - mae: 1.1726 - val_loss: 2.5527 - val_mae: 1.2331\n",
      "Epoch 34/50\n",
      "39/39 [==============================] - 0s 2ms/step - loss: 2.2487 - mae: 1.1699 - val_loss: 2.1140 - val_mae: 1.1281\n",
      "Epoch 35/50\n",
      "39/39 [==============================] - 0s 3ms/step - loss: 2.1757 - mae: 1.1423 - val_loss: 2.0511 - val_mae: 1.1154\n",
      "Epoch 36/50\n",
      "39/39 [==============================] - 0s 3ms/step - loss: 2.3139 - mae: 1.1819 - val_loss: 2.0700 - val_mae: 1.1332\n",
      "Epoch 37/50\n",
      "39/39 [==============================] - 0s 3ms/step - loss: 2.2299 - mae: 1.1675 - val_loss: 2.0296 - val_mae: 1.1073\n",
      "Epoch 38/50\n",
      "39/39 [==============================] - 0s 2ms/step - loss: 2.1848 - mae: 1.1582 - val_loss: 2.0147 - val_mae: 1.1104\n",
      "Epoch 39/50\n",
      "39/39 [==============================] - 0s 2ms/step - loss: 2.2934 - mae: 1.1740 - val_loss: 2.0391 - val_mae: 1.1166\n",
      "Epoch 40/50\n",
      "39/39 [==============================] - 0s 2ms/step - loss: 2.2333 - mae: 1.1591 - val_loss: 2.0738 - val_mae: 1.1192\n",
      "Epoch 41/50\n",
      "39/39 [==============================] - 0s 2ms/step - loss: 2.2275 - mae: 1.1634 - val_loss: 1.9988 - val_mae: 1.1047\n",
      "Epoch 42/50\n",
      "39/39 [==============================] - 0s 2ms/step - loss: 2.4781 - mae: 1.2258 - val_loss: 2.6822 - val_mae: 1.3203\n",
      "Epoch 43/50\n",
      "39/39 [==============================] - 0s 2ms/step - loss: 2.4583 - mae: 1.2301 - val_loss: 2.2129 - val_mae: 1.1803\n",
      "Epoch 44/50\n",
      "39/39 [==============================] - 0s 2ms/step - loss: 2.1777 - mae: 1.1488 - val_loss: 1.9901 - val_mae: 1.1019\n",
      "Epoch 45/50\n",
      "39/39 [==============================] - 0s 2ms/step - loss: 2.2579 - mae: 1.1756 - val_loss: 2.5855 - val_mae: 1.2401\n",
      "Epoch 46/50\n",
      "39/39 [==============================] - 0s 2ms/step - loss: 2.3386 - mae: 1.1927 - val_loss: 2.7349 - val_mae: 1.2737\n",
      "Epoch 47/50\n",
      "39/39 [==============================] - 0s 2ms/step - loss: 2.2107 - mae: 1.1679 - val_loss: 2.0585 - val_mae: 1.1281\n",
      "Epoch 48/50\n",
      "39/39 [==============================] - 0s 2ms/step - loss: 2.0966 - mae: 1.1350 - val_loss: 2.4357 - val_mae: 1.2558\n",
      "Epoch 49/50\n",
      "39/39 [==============================] - 0s 2ms/step - loss: 2.2609 - mae: 1.1774 - val_loss: 2.1463 - val_mae: 1.1489\n",
      "Epoch 50/50\n",
      "39/39 [==============================] - 0s 2ms/step - loss: 2.4326 - mae: 1.2042 - val_loss: 2.1355 - val_mae: 1.1574\n"
     ]
    }
   ],
   "source": [
    "#A데이터로 학습\n",
    "history = model_1.fit(A_train,\n",
    "                    A_score_train,\n",
    "                    epochs=50, validation_data=(A_valid,A_score_valid))"
   ]
  },
  {
   "cell_type": "code",
   "execution_count": 495,
   "id": "98ca2b84",
   "metadata": {},
   "outputs": [],
   "source": [
    "#B데이터로 학습\n",
    "#history = model_1.fit(B_train,\n",
    "#                    B_score_train,\n",
    "#                    epochs=50, validation_data=(B_valid,B_score_valid))"
   ]
  },
  {
   "cell_type": "code",
   "execution_count": 496,
   "id": "749c6081",
   "metadata": {
    "scrolled": true
   },
   "outputs": [
    {
     "name": "stdout",
     "output_type": "stream",
     "text": [
      "Epoch 1/50\n",
      "39/39 [==============================] - 1s 6ms/step - loss: 1.0121 - accuracy: 0.5089 - val_loss: 0.6465 - val_accuracy: 0.6494\n",
      "Epoch 2/50\n",
      "39/39 [==============================] - 0s 2ms/step - loss: 0.5864 - accuracy: 0.6851 - val_loss: 0.5391 - val_accuracy: 0.7240\n",
      "Epoch 3/50\n",
      "39/39 [==============================] - 0s 2ms/step - loss: 0.4942 - accuracy: 0.7573 - val_loss: 0.4814 - val_accuracy: 0.7695\n",
      "Epoch 4/50\n",
      "39/39 [==============================] - 0s 2ms/step - loss: 0.4359 - accuracy: 0.7930 - val_loss: 0.4367 - val_accuracy: 0.7922\n",
      "Epoch 5/50\n",
      "39/39 [==============================] - 0s 2ms/step - loss: 0.4066 - accuracy: 0.8198 - val_loss: 0.3708 - val_accuracy: 0.8409\n",
      "Epoch 6/50\n",
      "39/39 [==============================] - 0s 2ms/step - loss: 0.3607 - accuracy: 0.8417 - val_loss: 0.3391 - val_accuracy: 0.8506\n",
      "Epoch 7/50\n",
      "39/39 [==============================] - 0s 2ms/step - loss: 0.3359 - accuracy: 0.8555 - val_loss: 0.3155 - val_accuracy: 0.8701\n",
      "Epoch 8/50\n",
      "39/39 [==============================] - 0s 2ms/step - loss: 0.3221 - accuracy: 0.8628 - val_loss: 0.3056 - val_accuracy: 0.8539\n",
      "Epoch 9/50\n",
      "39/39 [==============================] - 0s 2ms/step - loss: 0.3065 - accuracy: 0.8620 - val_loss: 0.3031 - val_accuracy: 0.8734\n",
      "Epoch 10/50\n",
      "39/39 [==============================] - 0s 2ms/step - loss: 0.3076 - accuracy: 0.8588 - val_loss: 0.2766 - val_accuracy: 0.8831\n",
      "Epoch 11/50\n",
      "39/39 [==============================] - 0s 2ms/step - loss: 0.2961 - accuracy: 0.8677 - val_loss: 0.2706 - val_accuracy: 0.8734\n",
      "Epoch 12/50\n",
      "39/39 [==============================] - 0s 2ms/step - loss: 0.3029 - accuracy: 0.8498 - val_loss: 0.2679 - val_accuracy: 0.8864\n",
      "Epoch 13/50\n",
      "39/39 [==============================] - 0s 2ms/step - loss: 0.2903 - accuracy: 0.8709 - val_loss: 0.2821 - val_accuracy: 0.8669\n",
      "Epoch 14/50\n",
      "39/39 [==============================] - 0s 2ms/step - loss: 0.2973 - accuracy: 0.8718 - val_loss: 0.2604 - val_accuracy: 0.8766\n",
      "Epoch 15/50\n",
      "39/39 [==============================] - 0s 2ms/step - loss: 0.2826 - accuracy: 0.8766 - val_loss: 0.3299 - val_accuracy: 0.8474\n",
      "Epoch 16/50\n",
      "39/39 [==============================] - 0s 2ms/step - loss: 0.2941 - accuracy: 0.8653 - val_loss: 0.3010 - val_accuracy: 0.8539\n",
      "Epoch 17/50\n",
      "39/39 [==============================] - 0s 2ms/step - loss: 0.3129 - accuracy: 0.8555 - val_loss: 0.2696 - val_accuracy: 0.8799\n",
      "Epoch 18/50\n",
      "39/39 [==============================] - 0s 2ms/step - loss: 0.2762 - accuracy: 0.8758 - val_loss: 0.2932 - val_accuracy: 0.8669\n",
      "Epoch 19/50\n",
      "39/39 [==============================] - 0s 2ms/step - loss: 0.2788 - accuracy: 0.8799 - val_loss: 0.2503 - val_accuracy: 0.8896\n",
      "Epoch 20/50\n",
      "39/39 [==============================] - 0s 2ms/step - loss: 0.2793 - accuracy: 0.8766 - val_loss: 0.2489 - val_accuracy: 0.8864\n",
      "Epoch 21/50\n",
      "39/39 [==============================] - 0s 2ms/step - loss: 0.2841 - accuracy: 0.8774 - val_loss: 0.2528 - val_accuracy: 0.8864\n",
      "Epoch 22/50\n",
      "39/39 [==============================] - 0s 2ms/step - loss: 0.2744 - accuracy: 0.8782 - val_loss: 0.2573 - val_accuracy: 0.8896\n",
      "Epoch 23/50\n",
      "39/39 [==============================] - 0s 2ms/step - loss: 0.2804 - accuracy: 0.8734 - val_loss: 0.2625 - val_accuracy: 0.8799\n",
      "Epoch 24/50\n",
      "39/39 [==============================] - 0s 2ms/step - loss: 0.2694 - accuracy: 0.8823 - val_loss: 0.2472 - val_accuracy: 0.8896\n",
      "Epoch 25/50\n",
      "39/39 [==============================] - 0s 2ms/step - loss: 0.2871 - accuracy: 0.8709 - val_loss: 0.2692 - val_accuracy: 0.8669\n",
      "Epoch 26/50\n",
      "39/39 [==============================] - 0s 2ms/step - loss: 0.2836 - accuracy: 0.8709 - val_loss: 0.3595 - val_accuracy: 0.8247\n",
      "Epoch 27/50\n",
      "39/39 [==============================] - 0s 2ms/step - loss: 0.2781 - accuracy: 0.8709 - val_loss: 0.3720 - val_accuracy: 0.8377\n",
      "Epoch 28/50\n",
      "39/39 [==============================] - 0s 2ms/step - loss: 0.2804 - accuracy: 0.8734 - val_loss: 0.2483 - val_accuracy: 0.8994\n",
      "Epoch 29/50\n",
      "39/39 [==============================] - 0s 2ms/step - loss: 0.2878 - accuracy: 0.8653 - val_loss: 0.2449 - val_accuracy: 0.8961\n",
      "Epoch 30/50\n",
      "39/39 [==============================] - 0s 2ms/step - loss: 0.2706 - accuracy: 0.8726 - val_loss: 0.2544 - val_accuracy: 0.8896\n",
      "Epoch 31/50\n",
      "39/39 [==============================] - 0s 2ms/step - loss: 0.2666 - accuracy: 0.8847 - val_loss: 0.2499 - val_accuracy: 0.8994\n",
      "Epoch 32/50\n",
      "39/39 [==============================] - 0s 2ms/step - loss: 0.2892 - accuracy: 0.8644 - val_loss: 0.2490 - val_accuracy: 0.8929\n",
      "Epoch 33/50\n",
      "39/39 [==============================] - 0s 2ms/step - loss: 0.2677 - accuracy: 0.8831 - val_loss: 0.2507 - val_accuracy: 0.8896\n",
      "Epoch 34/50\n",
      "39/39 [==============================] - 0s 2ms/step - loss: 0.2842 - accuracy: 0.8726 - val_loss: 0.2648 - val_accuracy: 0.8766\n",
      "Epoch 35/50\n",
      "39/39 [==============================] - 0s 2ms/step - loss: 0.3285 - accuracy: 0.8620 - val_loss: 0.3108 - val_accuracy: 0.8474\n",
      "Epoch 36/50\n",
      "39/39 [==============================] - 0s 2ms/step - loss: 0.2743 - accuracy: 0.8839 - val_loss: 0.2386 - val_accuracy: 0.8961\n",
      "Epoch 37/50\n",
      "39/39 [==============================] - 0s 2ms/step - loss: 0.2801 - accuracy: 0.8782 - val_loss: 0.2442 - val_accuracy: 0.8994\n",
      "Epoch 38/50\n",
      "39/39 [==============================] - 0s 2ms/step - loss: 0.2722 - accuracy: 0.8815 - val_loss: 0.2453 - val_accuracy: 0.8994\n",
      "Epoch 39/50\n",
      "39/39 [==============================] - 0s 2ms/step - loss: 0.2881 - accuracy: 0.8766 - val_loss: 0.2430 - val_accuracy: 0.9026\n",
      "Epoch 40/50\n",
      "39/39 [==============================] - 0s 2ms/step - loss: 0.2648 - accuracy: 0.8856 - val_loss: 0.2517 - val_accuracy: 0.8831\n",
      "Epoch 41/50\n",
      "39/39 [==============================] - 0s 2ms/step - loss: 0.2763 - accuracy: 0.8726 - val_loss: 0.3802 - val_accuracy: 0.8182\n",
      "Epoch 42/50\n",
      "39/39 [==============================] - 0s 2ms/step - loss: 0.2983 - accuracy: 0.8766 - val_loss: 0.2530 - val_accuracy: 0.8831\n",
      "Epoch 43/50\n",
      "39/39 [==============================] - 0s 2ms/step - loss: 0.2802 - accuracy: 0.8718 - val_loss: 0.2457 - val_accuracy: 0.8994\n",
      "Epoch 44/50\n",
      "39/39 [==============================] - 0s 2ms/step - loss: 0.2626 - accuracy: 0.8839 - val_loss: 0.2444 - val_accuracy: 0.8864\n",
      "Epoch 45/50\n",
      "39/39 [==============================] - 0s 2ms/step - loss: 0.2835 - accuracy: 0.8734 - val_loss: 0.2734 - val_accuracy: 0.8669\n",
      "Epoch 46/50\n",
      "39/39 [==============================] - 0s 2ms/step - loss: 0.2641 - accuracy: 0.8872 - val_loss: 0.3190 - val_accuracy: 0.8506\n",
      "Epoch 47/50\n",
      "39/39 [==============================] - 0s 2ms/step - loss: 0.2652 - accuracy: 0.8791 - val_loss: 0.2404 - val_accuracy: 0.8961\n",
      "Epoch 48/50\n",
      "39/39 [==============================] - 0s 2ms/step - loss: 0.2615 - accuracy: 0.8864 - val_loss: 0.2969 - val_accuracy: 0.8734\n",
      "Epoch 49/50\n",
      "39/39 [==============================] - 0s 2ms/step - loss: 0.2656 - accuracy: 0.8815 - val_loss: 0.2548 - val_accuracy: 0.8896\n",
      "Epoch 50/50\n",
      "39/39 [==============================] - 0s 2ms/step - loss: 0.2606 - accuracy: 0.8831 - val_loss: 0.2435 - val_accuracy: 0.8961\n"
     ]
    }
   ],
   "source": [
    "history = model_2.fit(x_train,winlose_target_train, epochs=50, validation_data=(x_val,winlose_target_valid))"
   ]
  },
  {
   "cell_type": "markdown",
   "id": "443ed210",
   "metadata": {},
   "source": [
    "## 모델 평가"
   ]
  },
  {
   "cell_type": "code",
   "execution_count": 497,
   "id": "a98874de",
   "metadata": {},
   "outputs": [
    {
     "name": "stdout",
     "output_type": "stream",
     "text": [
      "13/13 [==============================] - 0s 999us/step - loss: 2.4391 - mae: 1.2290\n",
      "13/13 [==============================] - 0s 1ms/step - loss: 0.2798 - accuracy: 0.8961\n"
     ]
    },
    {
     "data": {
      "text/plain": [
       "[0.27980315685272217, 0.8961039185523987]"
      ]
     },
     "execution_count": 497,
     "metadata": {},
     "output_type": "execute_result"
    }
   ],
   "source": [
    "model_1.evaluate(A_test,A_score_test)\n",
    "model_2.evaluate(X_test,winlose_target_test)"
   ]
  },
  {
   "cell_type": "markdown",
   "id": "6fe28b21",
   "metadata": {},
   "source": [
    "## 예측\n",
    "- 학습하지 않은 22년 10월 8일 3경기의 데이터를 예측하고자 한다.\n",
    "- 단 이때 22년 10월 8일의 경기가 진행되지 않음을 가정하고 예측을 진행한다.\n",
    "- 때문에 모델에 input으로 들어가는 데이터는 각 구단의 직전 3경기의 평균값을 입력하고 실제 22년 10월 8일의 데이터와 비교한다.\n",
    "- 선발투수는 경기전 확정된 선발투수의 데이터로 입력값을 넣는다(직전 3경기 평균값X 당일 데이터O)\n",
    "|22-10-8|A구단 점수|B구단 점수|\n",
    "|------|----------|----------|\n",
    "|SSG(A) : 삼성(B)|1|6|\n",
    "|키움 : 두산|5|1|\n",
    "|한화 : NC|5|6|\n"
   ]
  },
  {
   "cell_type": "code",
   "execution_count": 515,
   "id": "68b8c5cf",
   "metadata": {},
   "outputs": [
    {
     "name": "stdout",
     "output_type": "stream",
     "text": [
      "1/1 [==============================] - 0s 52ms/step\n",
      "1/1 [==============================] - 0s 34ms/step\n",
      "1/1 [==============================] - 0s 35ms/step\n",
      "1/1 [==============================] - 0s 39ms/step\n",
      "SSG 예측점수:[1.9077125]\n",
      "삼성 예측점수:[5.8765464]\n",
      "두산 예측점수:[3.981299]\n",
      "키움 예측점수:[7.3295355]\n",
      "SSG 우승확률 : 6.084018707275391%\n",
      "삼성 우승확률 : 93.91597747802734%\n",
      "두산 우승확률 : 81.46593475341797%\n",
      "키움 우승확률 : 18.5340633392334%\n",
      "================================\n",
      "[[0.18534063]]\n",
      "[[0.9391598]]\n"
     ]
    }
   ],
   "source": [
    "#예측1 SSG:삼성\n",
    "SSG =[36.3,33.6,6.6,1,2.3,0,9.6,10,7.6,0.196,0.153,18,2.49,1.16]\n",
    "samsung = [41.6,38.6,12.6,0.3,2.3,0,8,8.6,9.3,0.325,0.252,19,6.00,1.52]\n",
    "dusan = [34.6,32.6,9.3,1,1.3,0,6.3,8,9,0.282,0.213,11.6,3.60,1.33]\n",
    "kiwum = [50,44,12,1,5.3,0.6,8.6,11.6,11.6,0.268,0.213,21.6,2.11,0.95]\n",
    "score_SSG_samsung =model_1.predict([SSG,samsung])\n",
    "score_dusan_kiwum =model_1.predict([dusan,kiwum])\n",
    "winlose_SSG_samsung= model_2.predict([[36.3,33.6,6.6,1,2.3,0,9.6,10,7.6,0.196,0.153,18,2.49,1.16,41.6,38.6,12.6,0.3,2.3,0,8,8.6,9.3,0.325,0.252,19,6.00,1.52]])\n",
    "winlose_dusan_kiwum = model_2.predict([[34.6,32.6,9.3,1,1.3,0,6.3,8,9,0.282,0.213,11.6,3.60,1.33,50,44,12,1,5.3,0.6,8.6,11.6,11.6,0.268,0.213,21.6,2.11,0.95]])\n",
    "print(f\"SSG 예측점수:{score_SSG_samsung[0]}\")\n",
    "print(f\"삼성 예측점수:{score_SSG_samsung[1]}\")\n",
    "print(f\"두산 예측점수:{score_dusan_kiwum[0]}\")\n",
    "print(f\"키움 예측점수:{score_dusan_kiwum[1]}\")\n",
    "\n",
    "print(f\"SSG 우승확률 : {float((1-winlose_SSG_samsung)*100)}%\")\n",
    "print(f\"삼성 우승확률 : {float((winlose_SSG_samsung)*100)}%\")\n",
    "print(f\"두산 우승확률 : {float((1-winlose_dusan_kiwum)*100)}%\")\n",
    "print(f\"키움 우승확률 : {float((winlose_dusan_kiwum)*100)}%\")\n",
    "print('================================')\n",
    "print(winlose_dusan_kiwum)\n",
    "print(winlose_SSG_samsung)\n"
   ]
  },
  {
   "cell_type": "markdown",
   "id": "febe0f61",
   "metadata": {},
   "source": [
    "## 모델 저장과 복원"
   ]
  },
  {
   "cell_type": "code",
   "execution_count": 518,
   "id": "e239732d",
   "metadata": {},
   "outputs": [
    {
     "ename": "NameError",
     "evalue": "name 'models' is not defined",
     "output_type": "error",
     "traceback": [
      "\u001b[1;31m---------------------------------------------------------------------------\u001b[0m",
      "\u001b[1;31mNameError\u001b[0m                                 Traceback (most recent call last)",
      "\u001b[1;32m~\\AppData\\Local\\Temp\\ipykernel_6480\\3860370458.py\u001b[0m in \u001b[0;36m<module>\u001b[1;34m\u001b[0m\n\u001b[0;32m      4\u001b[0m \u001b[1;33m\u001b[0m\u001b[0m\n\u001b[0;32m      5\u001b[0m \u001b[1;31m#모델 복원\u001b[0m\u001b[1;33m\u001b[0m\u001b[1;33m\u001b[0m\u001b[0m\n\u001b[1;32m----> 6\u001b[1;33m \u001b[0mloaded_model_1\u001b[0m \u001b[1;33m=\u001b[0m \u001b[0mmodels\u001b[0m\u001b[1;33m.\u001b[0m\u001b[0mload_model\u001b[0m\u001b[1;33m(\u001b[0m\u001b[1;34m'score_predict_model.h5'\u001b[0m\u001b[1;33m)\u001b[0m\u001b[1;33m\u001b[0m\u001b[1;33m\u001b[0m\u001b[0m\n\u001b[0m\u001b[0;32m      7\u001b[0m \u001b[0mloaded_model_2\u001b[0m \u001b[1;33m=\u001b[0m \u001b[0mmodels\u001b[0m\u001b[1;33m.\u001b[0m\u001b[0mload_model\u001b[0m\u001b[1;33m(\u001b[0m\u001b[1;34m'win_lose_predict_model.h5'\u001b[0m\u001b[1;33m)\u001b[0m\u001b[1;33m\u001b[0m\u001b[1;33m\u001b[0m\u001b[0m\n",
      "\u001b[1;31mNameError\u001b[0m: name 'models' is not defined"
     ]
    }
   ],
   "source": [
    "#모델 저장\n",
    "model_1.save('score_predict_model.h5')\n",
    "model_2.save('win_lose_predict_model.h5')\n",
    "\n",
    "#모델 복원\n",
    "loaded_model_1 = models.load_model('score_predict_model.h5')\n",
    "loaded_model_2 = models.load_model('win_lose_predict_model.h5')"
   ]
  }
 ],
 "metadata": {
  "kernelspec": {
   "display_name": "Python 3 (ipykernel)",
   "language": "python",
   "name": "python3"
  },
  "language_info": {
   "codemirror_mode": {
    "name": "ipython",
    "version": 3
   },
   "file_extension": ".py",
   "mimetype": "text/x-python",
   "name": "python",
   "nbconvert_exporter": "python",
   "pygments_lexer": "ipython3",
   "version": "3.9.13"
  }
 },
 "nbformat": 4,
 "nbformat_minor": 5
}

{
 "cells": [
  {
   "cell_type": "code",
   "execution_count": 131,
   "id": "00cbca6d",
   "metadata": {},
   "outputs": [
    {
     "data": {
      "text/html": [
       "<style>.container { width:90% !important; }</style>"
      ],
      "text/plain": [
       "<IPython.core.display.HTML object>"
      ]
     },
     "metadata": {},
     "output_type": "display_data"
    }
   ],
   "source": [
    "import pandas as pd\n",
    "from sklearn.preprocessing import StandardScaler\n",
    "import numpy as np\n",
    "from sklearn.decomposition import PCA\n",
    "from sklearn.model_selection import train_test_split\n",
    "from tensorflow import keras\n",
    "\n",
    "from IPython.core.display import display, HTML\n",
    "display(HTML(\"<style>.container { width:90% !important; }</style>\"))"
   ]
  },
  {
   "cell_type": "code",
   "execution_count": 132,
   "id": "7d234589",
   "metadata": {},
   "outputs": [],
   "source": [
    "#데이터 불러오기\n",
    "data_df = pd.read_excel('2017~2022_baseball_data.xlsx')\n",
    "target_df = pd.read_excel('2017~2022_label.xlsx')"
   ]
  },
  {
   "cell_type": "code",
   "execution_count": 133,
   "id": "10d7e18b",
   "metadata": {},
   "outputs": [],
   "source": [
    "#훈련세트, 검증세트, 테스트세트 분리 \n",
    "X_full_set, X_test=  train_test_split(data_df, test_size = 0.2, random_state = 7)\n",
    "y_full_set, y_test = train_test_split(target_df, test_size = 0.2, random_state = 7)\n",
    "\n",
    "X_train, X_valid = train_test_split(X_full_set, test_size = 0.2)\n",
    "y_train, y_valid = train_test_split(y_full_set, test_size = 0.2)\n"
   ]
  },
  {
   "cell_type": "code",
   "execution_count": 134,
   "id": "57a09605",
   "metadata": {},
   "outputs": [],
   "source": [
    "#데이터 정규화\n",
    "X_full_set=StandardScaler().fit_transform(X_full_set)\n",
    "X_train=StandardScaler().fit_transform(X_train)\n",
    "X_valid=StandardScaler().fit_transform(X_valid)\n"
   ]
  },
  {
   "cell_type": "code",
   "execution_count": 135,
   "id": "8af9f918",
   "metadata": {},
   "outputs": [],
   "source": [
    "#차원축소\n",
    "#pca = PCA(n_components=0.95)\n",
    "#data_reduced = pca.fit_transform(data_std)\n"
   ]
  },
  {
   "cell_type": "code",
   "execution_count": 136,
   "id": "b48040cb",
   "metadata": {},
   "outputs": [
    {
     "name": "stdout",
     "output_type": "stream",
     "text": [
      "Model: \"sequential_1\"\n",
      "_________________________________________________________________\n",
      " Layer (type)                Output Shape              Param #   \n",
      "=================================================================\n",
      " flatten (Flatten)           (None, 30)                0         \n",
      "                                                                 \n",
      " dense (Dense)               (None, 300)               9300      \n",
      "                                                                 \n",
      " dense_1 (Dense)             (None, 100)               30100     \n",
      "                                                                 \n",
      " dense_2 (Dense)             (None, 2)                 202       \n",
      "                                                                 \n",
      "=================================================================\n",
      "Total params: 39,602\n",
      "Trainable params: 39,602\n",
      "Non-trainable params: 0\n",
      "_________________________________________________________________\n"
     ]
    }
   ],
   "source": [
    "#모델 만들기\n",
    "model = keras.models.Sequential()\n",
    "model.add(keras.layers.Flatten(input_shape=[1,30]))\n",
    "model.add(keras.layers.Dense(300,activation='relu'))\n",
    "model.add(keras.layers.Dense(100,activation='relu'))\n",
    "model.add(keras.layers.Dense(2,activation='sigmoid'))\n",
    "\n",
    "model.compile(loss = 'binary_crossentropy', optimizer='sgd', metrics = ['accuracy'])\n",
    "\n",
    "history = model.fit"
   ]
  }
 ],
 "metadata": {
  "kernelspec": {
   "display_name": "Python 3 (ipykernel)",
   "language": "python",
   "name": "python3"
  },
  "language_info": {
   "codemirror_mode": {
    "name": "ipython",
    "version": 3
   },
   "file_extension": ".py",
   "mimetype": "text/x-python",
   "name": "python",
   "nbconvert_exporter": "python",
   "pygments_lexer": "ipython3",
   "version": "3.9.13"
  }
 },
 "nbformat": 4,
 "nbformat_minor": 5
}

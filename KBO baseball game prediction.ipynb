{
 "cells": [
  {
   "cell_type": "code",
   "execution_count": 284,
   "id": "b9d807ac",
   "metadata": {},
   "outputs": [],
   "source": [
    "import pandas as pd\n",
    "from selenium import webdriver\n",
    "from selenium.webdriver.common.by import By\n",
    "from selenium.webdriver.common.keys import Keys"
   ]
  },
  {
   "cell_type": "markdown",
   "id": "8d4b3ba3",
   "metadata": {},
   "source": [
    "# 야구 데이터 지표 용어\n",
    "## 타자\n",
    "1. AVG : 타율\n",
    "2. OPS : 출루율 + 장타율\n",
    "3. LI : 영향력 지표(주어진 상황이 얼마나 중요한가)\n",
    "4. WPA : 승리확률기여\n",
    "5. RE : 기대득점\n",
    "\n",
    "## 투수\n",
    "1. ERA : 평균자책점\n",
    "2. WHIP : 이닝당 안타 및 볼넷 허용률\n"
   ]
  },
  {
   "cell_type": "code",
   "execution_count": 285,
   "id": "bbc84596",
   "metadata": {},
   "outputs": [],
   "source": [
    "training_set = {'A_경기당 득점':[],\n",
    "              'A_경기당 실점':[],\n",
    "              'A_투수30일 ERA':[],\n",
    "              'A_시즌 승':[],\n",
    "              'A_시즌 패':[],\n",
    "              'A_평균 AVG':[],\n",
    "              'A_평균 OPS' :[],\n",
    "              'A_평균 LI' : [],\n",
    "              'A_평균 WPA' : [],\n",
    "              'A_평균 RE' : [],\n",
    "              'A_선발투수 ERA' : [],\n",
    "              'A_선발투수 WHIP' : [],\n",
    "              'A_선발투수 LI' : [],\n",
    "              'A_선발투수 WPA' : [],\n",
    "              'A_선발투수 RE' : [],  \n",
    "              'B_경기당 득점':[],\n",
    "              'B_경기당 실점':[],\n",
    "              'B_투수30일 ERA':[],\n",
    "              'B_시즌 승':[],\n",
    "              'B_시즌 패':[],\n",
    "              'B_평균 AVG':[],\n",
    "              'B_평균 OPS' :[],\n",
    "              'B_평균 LI' : [],\n",
    "              'B_평균 WPA' : [],\n",
    "              'B_평균 RE' : [],\n",
    "              'B_선발투수 ERA' : [],\n",
    "              'B_선발투수 WHIP' : [],\n",
    "              'B_선발투수 LI' : [],\n",
    "              'B_선발투수 WPA' : [],\n",
    "              'B_선발투수 RE' : []      \n",
    "             }\n",
    "driver = webdriver.Chrome('chromedriver')\n",
    "driver.get(\"http://www.statiz.co.kr/schedule.php?opt=6&sy=2017\")\n",
    "#for i in range(1,6):\n",
    "#경기\n",
    "driver.find_element(By.XPATH,\"/html/body/div[1]/div[1]/div/section[2]/div/div[2]/div/div/div/div[2]/table/tbody/tr[2]/td[6]/div[3]/a[1]\").send_keys(Keys.ENTER)\n",
    "#미리보기 엔터\n",
    "driver.find_element(By.XPATH,\"/html/body/div[1]/div[1]/div/section[2]/div/div[1]/div/div[3]/div/div[2]/table/tbody/tr/td/a[2]\").send_keys(Keys.ENTER)\n"
   ]
  },
  {
   "cell_type": "code",
   "execution_count": 286,
   "id": "56f90616",
   "metadata": {},
   "outputs": [
    {
     "name": "stdout",
     "output_type": "stream",
     "text": [
      "['28-22-1, 3위, 5.0 W2', '5.69', '4.49', '5G 0승 0패 5.28']\n",
      "['28-22-1, 3위, 5.0 W2', '5.69', '4.49', '5G 0승 0패 5.28', '28', '22']\n"
     ]
    }
   ],
   "source": [
    "#A팀 상대전적 데이터 크롤링\n",
    "A = []\n",
    "for i in [3,6,7]:\n",
    "    data = driver.find_element(By.XPATH,f\"/html/body/div[1]/div[1]/div/section[2]/div/div[2]/div[1]/div[1]/div/div[2]/table/tbody/tr[{str(i)}]/td[1]\").text\n",
    "    A.append(data)\n",
    "A.append(driver.find_element(By.XPATH,\"/html/body/div[1]/div[1]/div/section[2]/div/div[2]/div[1]/div[2]/div/div[2]/table/tbody/tr[7]/td[1]\").text)\n",
    "print(A)\n",
    "#raw 데이터에서 시즌 승패 ,투수 최근 30일 ERA 분리하기, \n",
    "A.append(A[0].split('-')[0])\n",
    "A.append(A[0].split('-')[1])\n",
    "print(A)\n",
    "del A[0]\n",
    "try : \n",
    "    A[2]=A[2].split()[3]\n",
    "except:\n",
    "    A[2] = 0.0\n"
   ]
  },
  {
   "cell_type": "code",
   "execution_count": 287,
   "id": "ba05ca6f",
   "metadata": {},
   "outputs": [],
   "source": [
    "#B팀 데이터 크롤링\n",
    "B = []\n",
    "for i in [3,6,7]:\n",
    "    data = driver.find_element(By.XPATH,f\"/html/body/div[1]/div[1]/div/section[2]/div/div[2]/div[1]/div[1]/div/div[2]/table/tbody/tr[{str(i)}]/td[2]\").text\n",
    "    B.append(data)\n",
    "B.append(driver.find_element(By.XPATH,\"/html/body/div[1]/div[1]/div/section[2]/div/div[2]/div[1]/div[2]/div/div[2]/table/tbody/tr[7]/td[2]\").text)\n",
    "\n",
    "#raw 데이터에서 시즌 승패 ,투수 최근 30일 ERA 분리하기, \n",
    "B.append(B[0].split('-')[0])\n",
    "B.append(B[0].split('-')[1])\n",
    "del B[0]\n",
    "try:\n",
    "    B[2]=B[2].split()[3]\n",
    "except:\n",
    "    B[2] = 0.0\n"
   ]
  },
  {
   "cell_type": "code",
   "execution_count": 288,
   "id": "4b98d7e6",
   "metadata": {},
   "outputs": [],
   "source": [
    "#박스스코어 엔터\n",
    "driver.find_element(By.XPATH,\"/html/body/div[1]/div[1]/div/section[2]/div/div[1]/div/div[3]/div/div[2]/table/tbody/tr/td/a[4]\").send_keys(Keys.ENTER)\n"
   ]
  },
  {
   "cell_type": "code",
   "execution_count": 289,
   "id": "9597a946",
   "metadata": {},
   "outputs": [
    {
     "ename": "NoSuchElementException",
     "evalue": "Message: no such element: Unable to locate element: {\"method\":\"xpath\",\"selector\":\"/html/body/div[1]/div[1]/div/section[2]/div/div[2]/div[1]/div/div/div[2]/table/tbody/tr[15]/td[16]\"}\n  (Session info: chrome=107.0.5304.123)\nStacktrace:\nBacktrace:\n\tOrdinal0 [0x0021ACD3+2075859]\n\tOrdinal0 [0x001AEE61+1633889]\n\tOrdinal0 [0x000AB7BD+571325]\n\tOrdinal0 [0x000DAC2F+764975]\n\tOrdinal0 [0x000DAE1B+765467]\n\tOrdinal0 [0x0010D0F2+970994]\n\tOrdinal0 [0x000F7364+881508]\n\tOrdinal0 [0x0010B56A+963946]\n\tOrdinal0 [0x000F7136+880950]\n\tOrdinal0 [0x000CFEFD+720637]\n\tOrdinal0 [0x000D0F3F+724799]\n\tGetHandleVerifier [0x004CEED2+2769538]\n\tGetHandleVerifier [0x004C0D95+2711877]\n\tGetHandleVerifier [0x002AA03A+521194]\n\tGetHandleVerifier [0x002A8DA0+516432]\n\tOrdinal0 [0x001B682C+1665068]\n\tOrdinal0 [0x001BB128+1683752]\n\tOrdinal0 [0x001BB215+1683989]\n\tOrdinal0 [0x001C6484+1729668]\n\tBaseThreadInitThunk [0x76FDFEF9+25]\n\tRtlGetAppContainerNamedObjectPath [0x77307BBE+286]\n\tRtlGetAppContainerNamedObjectPath [0x77307B8E+238]\n\t(No symbol) [0x00000000]\n",
     "output_type": "error",
     "traceback": [
      "\u001b[1;31m---------------------------------------------------------------------------\u001b[0m",
      "\u001b[1;31mNoSuchElementException\u001b[0m                    Traceback (most recent call last)",
      "\u001b[1;32m~\\AppData\\Local\\Temp\\ipykernel_23192\\685183461.py\u001b[0m in \u001b[0;36m<module>\u001b[1;34m\u001b[0m\n\u001b[0;32m      2\u001b[0m \u001b[0mA_team_hit\u001b[0m \u001b[1;33m=\u001b[0m \u001b[1;33m[\u001b[0m\u001b[1;33m]\u001b[0m\u001b[1;33m\u001b[0m\u001b[1;33m\u001b[0m\u001b[0m\n\u001b[0;32m      3\u001b[0m \u001b[1;32mfor\u001b[0m \u001b[0mi\u001b[0m \u001b[1;32min\u001b[0m \u001b[0mrange\u001b[0m\u001b[1;33m(\u001b[0m\u001b[1;36m16\u001b[0m\u001b[1;33m,\u001b[0m\u001b[1;36m21\u001b[0m\u001b[1;33m)\u001b[0m\u001b[1;33m:\u001b[0m\u001b[1;33m\u001b[0m\u001b[1;33m\u001b[0m\u001b[0m\n\u001b[1;32m----> 4\u001b[1;33m     \u001b[0mdata\u001b[0m \u001b[1;33m=\u001b[0m \u001b[0mdriver\u001b[0m\u001b[1;33m.\u001b[0m\u001b[0mfind_element\u001b[0m\u001b[1;33m(\u001b[0m\u001b[0mBy\u001b[0m\u001b[1;33m.\u001b[0m\u001b[0mXPATH\u001b[0m\u001b[1;33m,\u001b[0m\u001b[1;34mf\"/html/body/div[1]/div[1]/div/section[2]/div/div[2]/div[1]/div/div/div[2]/table/tbody/tr[15]/td[{str(i)}]\"\u001b[0m\u001b[1;33m)\u001b[0m\u001b[1;33m.\u001b[0m\u001b[0mtext\u001b[0m\u001b[1;33m\u001b[0m\u001b[1;33m\u001b[0m\u001b[0m\n\u001b[0m\u001b[0;32m      5\u001b[0m     \u001b[0mA_team_hit\u001b[0m\u001b[1;33m.\u001b[0m\u001b[0mappend\u001b[0m\u001b[1;33m(\u001b[0m\u001b[0mdata\u001b[0m\u001b[1;33m)\u001b[0m\u001b[1;33m\u001b[0m\u001b[1;33m\u001b[0m\u001b[0m\n\u001b[0;32m      6\u001b[0m \u001b[1;33m\u001b[0m\u001b[0m\n",
      "\u001b[1;32m~\\anaconda3\\lib\\site-packages\\selenium\\webdriver\\remote\\webdriver.py\u001b[0m in \u001b[0;36mfind_element\u001b[1;34m(self, by, value)\u001b[0m\n\u001b[0;32m    859\u001b[0m             \u001b[0mvalue\u001b[0m \u001b[1;33m=\u001b[0m \u001b[1;34m'[name=\"%s\"]'\u001b[0m \u001b[1;33m%\u001b[0m \u001b[0mvalue\u001b[0m\u001b[1;33m\u001b[0m\u001b[1;33m\u001b[0m\u001b[0m\n\u001b[0;32m    860\u001b[0m \u001b[1;33m\u001b[0m\u001b[0m\n\u001b[1;32m--> 861\u001b[1;33m         \u001b[1;32mreturn\u001b[0m \u001b[0mself\u001b[0m\u001b[1;33m.\u001b[0m\u001b[0mexecute\u001b[0m\u001b[1;33m(\u001b[0m\u001b[0mCommand\u001b[0m\u001b[1;33m.\u001b[0m\u001b[0mFIND_ELEMENT\u001b[0m\u001b[1;33m,\u001b[0m \u001b[1;33m{\u001b[0m\u001b[1;34m\"using\"\u001b[0m\u001b[1;33m:\u001b[0m \u001b[0mby\u001b[0m\u001b[1;33m,\u001b[0m \u001b[1;34m\"value\"\u001b[0m\u001b[1;33m:\u001b[0m \u001b[0mvalue\u001b[0m\u001b[1;33m}\u001b[0m\u001b[1;33m)\u001b[0m\u001b[1;33m[\u001b[0m\u001b[1;34m\"value\"\u001b[0m\u001b[1;33m]\u001b[0m\u001b[1;33m\u001b[0m\u001b[1;33m\u001b[0m\u001b[0m\n\u001b[0m\u001b[0;32m    862\u001b[0m \u001b[1;33m\u001b[0m\u001b[0m\n\u001b[0;32m    863\u001b[0m     \u001b[1;32mdef\u001b[0m \u001b[0mfind_elements\u001b[0m\u001b[1;33m(\u001b[0m\u001b[0mself\u001b[0m\u001b[1;33m,\u001b[0m \u001b[0mby\u001b[0m\u001b[1;33m=\u001b[0m\u001b[0mBy\u001b[0m\u001b[1;33m.\u001b[0m\u001b[0mID\u001b[0m\u001b[1;33m,\u001b[0m \u001b[0mvalue\u001b[0m\u001b[1;33m:\u001b[0m \u001b[0mOptional\u001b[0m\u001b[1;33m[\u001b[0m\u001b[0mstr\u001b[0m\u001b[1;33m]\u001b[0m \u001b[1;33m=\u001b[0m \u001b[1;32mNone\u001b[0m\u001b[1;33m)\u001b[0m \u001b[1;33m->\u001b[0m \u001b[0mList\u001b[0m\u001b[1;33m[\u001b[0m\u001b[0mWebElement\u001b[0m\u001b[1;33m]\u001b[0m\u001b[1;33m:\u001b[0m\u001b[1;33m\u001b[0m\u001b[1;33m\u001b[0m\u001b[0m\n",
      "\u001b[1;32m~\\anaconda3\\lib\\site-packages\\selenium\\webdriver\\remote\\webdriver.py\u001b[0m in \u001b[0;36mexecute\u001b[1;34m(self, driver_command, params)\u001b[0m\n\u001b[0;32m    442\u001b[0m         \u001b[0mresponse\u001b[0m \u001b[1;33m=\u001b[0m \u001b[0mself\u001b[0m\u001b[1;33m.\u001b[0m\u001b[0mcommand_executor\u001b[0m\u001b[1;33m.\u001b[0m\u001b[0mexecute\u001b[0m\u001b[1;33m(\u001b[0m\u001b[0mdriver_command\u001b[0m\u001b[1;33m,\u001b[0m \u001b[0mparams\u001b[0m\u001b[1;33m)\u001b[0m\u001b[1;33m\u001b[0m\u001b[1;33m\u001b[0m\u001b[0m\n\u001b[0;32m    443\u001b[0m         \u001b[1;32mif\u001b[0m \u001b[0mresponse\u001b[0m\u001b[1;33m:\u001b[0m\u001b[1;33m\u001b[0m\u001b[1;33m\u001b[0m\u001b[0m\n\u001b[1;32m--> 444\u001b[1;33m             \u001b[0mself\u001b[0m\u001b[1;33m.\u001b[0m\u001b[0merror_handler\u001b[0m\u001b[1;33m.\u001b[0m\u001b[0mcheck_response\u001b[0m\u001b[1;33m(\u001b[0m\u001b[0mresponse\u001b[0m\u001b[1;33m)\u001b[0m\u001b[1;33m\u001b[0m\u001b[1;33m\u001b[0m\u001b[0m\n\u001b[0m\u001b[0;32m    445\u001b[0m             \u001b[0mresponse\u001b[0m\u001b[1;33m[\u001b[0m\u001b[1;34m\"value\"\u001b[0m\u001b[1;33m]\u001b[0m \u001b[1;33m=\u001b[0m \u001b[0mself\u001b[0m\u001b[1;33m.\u001b[0m\u001b[0m_unwrap_value\u001b[0m\u001b[1;33m(\u001b[0m\u001b[0mresponse\u001b[0m\u001b[1;33m.\u001b[0m\u001b[0mget\u001b[0m\u001b[1;33m(\u001b[0m\u001b[1;34m\"value\"\u001b[0m\u001b[1;33m,\u001b[0m \u001b[1;32mNone\u001b[0m\u001b[1;33m)\u001b[0m\u001b[1;33m)\u001b[0m\u001b[1;33m\u001b[0m\u001b[1;33m\u001b[0m\u001b[0m\n\u001b[0;32m    446\u001b[0m             \u001b[1;32mreturn\u001b[0m \u001b[0mresponse\u001b[0m\u001b[1;33m\u001b[0m\u001b[1;33m\u001b[0m\u001b[0m\n",
      "\u001b[1;32m~\\anaconda3\\lib\\site-packages\\selenium\\webdriver\\remote\\errorhandler.py\u001b[0m in \u001b[0;36mcheck_response\u001b[1;34m(self, response)\u001b[0m\n\u001b[0;32m    247\u001b[0m                 \u001b[0malert_text\u001b[0m \u001b[1;33m=\u001b[0m \u001b[0mvalue\u001b[0m\u001b[1;33m[\u001b[0m\u001b[1;34m\"alert\"\u001b[0m\u001b[1;33m]\u001b[0m\u001b[1;33m.\u001b[0m\u001b[0mget\u001b[0m\u001b[1;33m(\u001b[0m\u001b[1;34m\"text\"\u001b[0m\u001b[1;33m)\u001b[0m\u001b[1;33m\u001b[0m\u001b[1;33m\u001b[0m\u001b[0m\n\u001b[0;32m    248\u001b[0m             \u001b[1;32mraise\u001b[0m \u001b[0mexception_class\u001b[0m\u001b[1;33m(\u001b[0m\u001b[0mmessage\u001b[0m\u001b[1;33m,\u001b[0m \u001b[0mscreen\u001b[0m\u001b[1;33m,\u001b[0m \u001b[0mstacktrace\u001b[0m\u001b[1;33m,\u001b[0m \u001b[0malert_text\u001b[0m\u001b[1;33m)\u001b[0m  \u001b[1;31m# type: ignore[call-arg]  # mypy is not smart enough here\u001b[0m\u001b[1;33m\u001b[0m\u001b[1;33m\u001b[0m\u001b[0m\n\u001b[1;32m--> 249\u001b[1;33m         \u001b[1;32mraise\u001b[0m \u001b[0mexception_class\u001b[0m\u001b[1;33m(\u001b[0m\u001b[0mmessage\u001b[0m\u001b[1;33m,\u001b[0m \u001b[0mscreen\u001b[0m\u001b[1;33m,\u001b[0m \u001b[0mstacktrace\u001b[0m\u001b[1;33m)\u001b[0m\u001b[1;33m\u001b[0m\u001b[1;33m\u001b[0m\u001b[0m\n\u001b[0m",
      "\u001b[1;31mNoSuchElementException\u001b[0m: Message: no such element: Unable to locate element: {\"method\":\"xpath\",\"selector\":\"/html/body/div[1]/div[1]/div/section[2]/div/div[2]/div[1]/div/div/div[2]/table/tbody/tr[15]/td[16]\"}\n  (Session info: chrome=107.0.5304.123)\nStacktrace:\nBacktrace:\n\tOrdinal0 [0x0021ACD3+2075859]\n\tOrdinal0 [0x001AEE61+1633889]\n\tOrdinal0 [0x000AB7BD+571325]\n\tOrdinal0 [0x000DAC2F+764975]\n\tOrdinal0 [0x000DAE1B+765467]\n\tOrdinal0 [0x0010D0F2+970994]\n\tOrdinal0 [0x000F7364+881508]\n\tOrdinal0 [0x0010B56A+963946]\n\tOrdinal0 [0x000F7136+880950]\n\tOrdinal0 [0x000CFEFD+720637]\n\tOrdinal0 [0x000D0F3F+724799]\n\tGetHandleVerifier [0x004CEED2+2769538]\n\tGetHandleVerifier [0x004C0D95+2711877]\n\tGetHandleVerifier [0x002AA03A+521194]\n\tGetHandleVerifier [0x002A8DA0+516432]\n\tOrdinal0 [0x001B682C+1665068]\n\tOrdinal0 [0x001BB128+1683752]\n\tOrdinal0 [0x001BB215+1683989]\n\tOrdinal0 [0x001C6484+1729668]\n\tBaseThreadInitThunk [0x76FDFEF9+25]\n\tRtlGetAppContainerNamedObjectPath [0x77307BBE+286]\n\tRtlGetAppContainerNamedObjectPath [0x77307B8E+238]\n\t(No symbol) [0x00000000]\n"
     ]
    }
   ],
   "source": [
    "#A팀 타자 데이터 크롤링\n",
    "A_team_hit = []\n",
    "for i in range(16,21):\n",
    "    data = driver.find_element(By.XPATH,f\"/html/body/div[1]/div[1]/div/section[2]/div/div[2]/div[1]/div/div/div[2]/table/tbody/tr[15]/td[{str(i)}]\").text\n",
    "    A_team_hit.append(data)\n",
    "\n",
    "#B팀 타자 데이터 크롤링\n",
    "B_team_hit = []\n",
    "for i in range(16,21):\n",
    "    data = driver.find_element(By.XPATH,f\"/html/body/div[1]/div[1]/div/section[2]/div/div[2]/div[2]/div/div/div[2]/table/tbody/tr[15]/td[{str(i)}]\").text\n",
    "    B_team_hit.append(data)\n",
    "\n",
    "#A팀 선발 투수 데이터 크롤링\n",
    "A_team_pitcher = []\n",
    "for i in range(15,20):\n",
    "    data = driver.find_element(By.XPATH,f\"/html/body/div[1]/div[1]/div/section[2]/div/div[2]/div[3]/div/div/div[2]/table/tbody/tr[2]/td[{str(i)}]\").text\n",
    "    A_team_pitcher.append(data)\n",
    "\n",
    "#B팀 선발 투수 데이터 크롤링\n",
    "B_team_pitcher = []\n",
    "for i in range(15,20):\n",
    "    data = driver.find_element(By.XPATH,f\"/html/body/div[1]/div[1]/div/section[2]/div/div[2]/div[4]/div/div/div[2]/table/tbody/tr[2]/td[{str(i)}]\").text\n",
    "    B_team_pitcher.append(data)\n",
    "\n",
    "print(A_team_hit)\n",
    "print(B_team_hit)\n",
    "print(A_team_pitcher)\n",
    "print(B_team_pitcher)"
   ]
  },
  {
   "cell_type": "code",
   "execution_count": null,
   "id": "5ea8f159",
   "metadata": {},
   "outputs": [],
   "source": [
    "training_set['A_경기당 득점'].append(A[0])\n",
    "training_set['A_경기당 실점'].append(A[1])\n",
    "training_set['A_투수30일 ERA'].append(A[2])\n",
    "training_set['A_시즌 승'].append(A[3])\n",
    "training_set['A_시즌 패'].append(A[4])\n",
    "training_set['A_평균 AVG'].append(A_team_hit[0])\n",
    "training_set['A_평균 OPS'].append(A_team_hit[1])\n",
    "training_set['A_평균 LI'].append(A_team_hit[2])\n",
    "training_set['A_평균 WPA'].append(A_team_hit[3])\n",
    "training_set['A_평균 RE'].append(A_team_hit[4])\n",
    "training_set['A_선발투수 ERA'].append(A_team_pitcher[0])\n",
    "training_set['A_선발투수 WHIP'].append(A_team_pitcher[1])\n",
    "training_set['A_선발투수 LI'].append(A_team_pitcher[2])\n",
    "training_set['A_선발투수 WPA'].append(A_team_pitcher[3])\n",
    "training_set['A_선발투수 RE'.append(A_team_pitcher[4])\n",
    "training_set['B_경기당 득점'].append([0])\n",
    "training_set['B_경기당 실점'].append(B[1])\n",
    "training_set['B_투수30일 ERA'].append(B[2])\n",
    "training_set['B_시즌 승'].append(B[3])\n",
    "training_set['B_시즌 패'].append(B[4])\n",
    "training_set['B_평균 AVG'].append(B_team_hit[0])\n",
    "training_set['B_평균 OPS'].append(B_team_hit[1])\n",
    "training_set['B_평균 LI'].append(B_team_hit[2])\n",
    "training_set['B_평균 WPA'].append(B_team_hit[3])\n",
    "training_set['B_평균 RE'].append(B_team_hit[4])\n",
    "training_set['B_선발투수 ERA'].append(B_team_pitcher[0])\n",
    "training_set['B_선발투수 WHIP'].append(B_team_pitcher[1])\n",
    "training_set['B_선발투수 LI'].append(B_team_pitcher[2])\n",
    "training_set['B_선발투수 WPA'].append(B_team_pitcher[3])\n",
    "training_set['B_선발투수 RE'].append(B_team_pitcher[4])\n",
    "training_set_df = pd.DataFrame(training_set,index=[0])             \n",
    "display(training_set_df)"
   ]
  }
 ],
 "metadata": {
  "kernelspec": {
   "display_name": "Python 3 (ipykernel)",
   "language": "python",
   "name": "python3"
  },
  "language_info": {
   "codemirror_mode": {
    "name": "ipython",
    "version": 3
   },
   "file_extension": ".py",
   "mimetype": "text/x-python",
   "name": "python",
   "nbconvert_exporter": "python",
   "pygments_lexer": "ipython3",
   "version": "3.9.13"
  }
 },
 "nbformat": 4,
 "nbformat_minor": 5
}

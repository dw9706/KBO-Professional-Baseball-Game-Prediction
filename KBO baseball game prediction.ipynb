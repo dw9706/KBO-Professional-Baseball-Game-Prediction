{
 "cells": [
  {
   "cell_type": "code",
   "execution_count": 80,
   "id": "0cb6a709",
   "metadata": {},
   "outputs": [],
   "source": [
    "import pandas as pd\n",
    "import tensorflow as tf\n",
    "from sklearn.preprocessing import StandardScaler\n",
    "import numpy as np\n",
    "from sklearn.decomposition import PCA\n",
    "from sklearn.model_selection import train_test_split\n",
    "from sklearn.preprocessing import MinMaxScaler, StandardScaler\n",
    "from tensorflow import keras\n",
    "from tensorflow.keras.utils import to_categorical\n",
    "from tensorflow.keras.layers import Dense, Input, Flatten , Concatenate\n",
    "from tensorflow.keras.models import Sequential, Model\n",
    "from tensorflow.keras.utils import plot_model #모델 시각화 \n",
    "from tensorflow.keras.optimizers import Adam\n",
    "from tensorflow.keras.callbacks import ModelCheckpoint, EarlyStopping, LearningRateScheduler, TensorBoard\n",
    "\n",
    "\n",
    "tf.config.run_functions_eagerly(False)\n",
    "\n"
   ]
  },
  {
   "cell_type": "markdown",
   "id": "b4f1e863",
   "metadata": {},
   "source": [
    "## 데이터 불러오기\n",
    "- 앞서 크롤링하여 엑셀에 저장한 파일을 불러온다."
   ]
  },
  {
   "cell_type": "code",
   "execution_count": 81,
   "id": "729929ad",
   "metadata": {
    "scrolled": true
   },
   "outputs": [],
   "source": [
    "data_df = pd.read_excel('baseball_data.xlsx')\n",
    "target_df = pd.read_excel('label.xlsx')\n",
    "try:\n",
    "    del data_df['Unnamed: 0']\n",
    "    del target_df['Unnamed: 0']\n",
    "except:\n",
    "    pass\n"
   ]
  },
  {
   "cell_type": "markdown",
   "id": "0389ef69",
   "metadata": {},
   "source": [
    "## 훈련세트, 검증세트, 테스트세트 분리\n",
    "- 8:2비율로 훈련세트, 테스트 세트를 분리하고 또 다시 8:2로 훈련세트, 검증세트를 분리한다.\n",
    "- 스코어를 예측하는 회귀모델을 위해 훈련세트, 검증세트, 테스트세트를 A팀과 B팀으로 분리한다.\n",
    "- 레이블도 A팀 스코어 레이블, B팀 스코어 레이블, 승패 레이블로 분리한다."
   ]
  },
  {
   "cell_type": "code",
   "execution_count": 82,
   "id": "61cc75dc",
   "metadata": {},
   "outputs": [],
   "source": [
    "#훈련세트, 검증세트, 테스트세트 분리 \n",
    "X_full_set, X_test=  train_test_split(data_df, test_size = 0.2, random_state = 7)\n",
    "y_full_set, y_test = train_test_split(target_df, test_size = 0.2, random_state = 7)\n",
    "x_train, x_val, y_train, y_val = train_test_split(X_full_set,y_full_set, test_size=0.2, random_state=7)\n",
    "\n",
    "#A B 나누기\n",
    "A_train = x_train.iloc[:,:14]\n",
    "B_train = x_train.iloc[:,14:]\n",
    "A_valid = x_val.iloc[:,:14]   \n",
    "B_valid = x_val.iloc[:,14:]\n",
    "A_test = X_test.iloc[:,:14]\n",
    "B_test = X_test.iloc[:,14:]\n",
    "\n",
    "winlose_target_train = pd.DataFrame(y_train['승패'])\n",
    "A_score_train = pd.DataFrame(y_train['A팀_스코어'])\n",
    "B_score_train = pd.DataFrame(y_train['B팀_스코어'])\n",
    "\n",
    "winlose_target_valid = pd.DataFrame(y_val['승패'])\n",
    "A_score_valid = pd.DataFrame(y_val['A팀_스코어'])\n",
    "B_score_valid = pd.DataFrame(y_val['B팀_스코어'])\n",
    "\n",
    "winlose_target_test = pd.DataFrame(y_test['승패'])\n",
    "A_score_test = pd.DataFrame(y_test['A팀_스코어'])\n",
    "B_score_test = pd.DataFrame(y_test['B팀_스코어'])\n",
    "\n"
   ]
  },
  {
   "cell_type": "markdown",
   "id": "7f4cc53c",
   "metadata": {},
   "source": [
    "## 데이터 전처리\n",
    "- min-max 스케일링(정규화) 와 표준화 둘 중 더 좋은걸로 선택\n",
    "- 전처리 하지 않는걸로..."
   ]
  },
  {
   "cell_type": "code",
   "execution_count": 83,
   "id": "b3ec4b9c",
   "metadata": {},
   "outputs": [],
   "source": [
    "#데이터 정규화\n",
    "#scaler = StandardScaler() \n",
    "#mms = MinMaxScaler()\n",
    "\n",
    "#x_train = scaler.fit_transform(x_train)\n",
    "#x_val=scaler.fit_transform(x_val)\n",
    "#X_test=scaler.fit_transform(X_test)\n",
    "#x_val=scaler.fit_transform(x_val)"
   ]
  },
  {
   "cell_type": "code",
   "execution_count": 84,
   "id": "aa4e4ddd",
   "metadata": {},
   "outputs": [],
   "source": [
    "#A_train= scaler.fit_transform(A_train)\n",
    "#B_train= scaler.fit_transform(B_train)\n",
    "\n",
    "#A_valid=scaler.fit_transform(A_valid)\n",
    "#B_valid=scaler.fit_transform(B_valid)\n",
    "\n",
    "#A_test=scaler.transform(A_test)\n",
    "#B_test=scaler.transform(B_test)"
   ]
  },
  {
   "cell_type": "code",
   "execution_count": 85,
   "id": "b105bfe2",
   "metadata": {},
   "outputs": [],
   "source": [
    "#차원축소\n",
    "#pca = PCA(n_components=7)\n",
    "#X_train = pca.fit_transform(X_train)\n",
    "#X_valid = pca.fit_transform(X_valid)\n"
   ]
  },
  {
   "cell_type": "markdown",
   "id": "0c898b44",
   "metadata": {},
   "source": [
    "## 모델 만들기\n",
    "- 모델1(점수예측)은 회귀모델이기 때문에 출력층에 활성화함수를 지정하지 않았다.\n",
    "- 모델2(승패예측)은 이진분류모델이기 때문에 출력층에 시그모이드 함수를 지정했다."
   ]
  },
  {
   "cell_type": "code",
   "execution_count": 86,
   "id": "61060c4b",
   "metadata": {},
   "outputs": [],
   "source": [
    "#모델1 만들기\n",
    "input = Input(shape=(14,),name='input')\n",
    "hidden1 = Dense(400,activation='relu',name='hidden1')(input)\n",
    "hidden2 = Dense(200,activation='relu',name='hidden2')(hidden1)\n",
    "hidden3= Dense(50,activation='relu',name='hidden3')(hidden2)\n",
    "hidden4 = Dense(30,activation='relu',name='hidden_4')(hidden3)\n",
    "output = Dense(1,name='output')(hidden4)\n",
    "\n",
    "\n",
    "model_1 = Model(inputs=input,outputs=output)\n",
    "\n",
    "#모델2 만들기\n",
    "input= Input(shape=(28,),name='input')\n",
    "hidden_1 = Dense(400,activation='relu',name='hidden_1')(input)\n",
    "hidden_2 = Dense(200,activation='relu',name='hidden_2')(hidden_1)\n",
    "hidden_3 = Dense(50,activation='relu',name='hidden_3')(hidden_2)\n",
    "hidden_4 = Dense(30,activation='relu',name='hidden_4')(hidden_3)\n",
    "output = Dense(1,activation='sigmoid',name='output')(hidden_4)\n",
    "\n",
    "model_2 = Model(inputs=input,outputs=output)"
   ]
  },
  {
   "cell_type": "markdown",
   "id": "26e196c6",
   "metadata": {},
   "source": [
    "## 모델컴파일\n",
    "- 회귀문제 : MSE(loss) , MAE(eval)\n",
    "- 이진분류문제 : binary cross entropy(loss) , accuracy(eval)"
   ]
  },
  {
   "cell_type": "code",
   "execution_count": 87,
   "id": "81504861",
   "metadata": {},
   "outputs": [],
   "source": [
    "model_1.compile(loss='mse',\n",
    "              optimizer=Adam(learning_rate=1e-2),metrics=['mae'])\n",
    "\n",
    "model_2.compile(loss='binary_crossentropy', optimizer='Adam',metrics=['accuracy'])"
   ]
  },
  {
   "cell_type": "markdown",
   "id": "730f6c0c",
   "metadata": {},
   "source": [
    "## 모델학습"
   ]
  },
  {
   "cell_type": "code",
   "execution_count": 88,
   "id": "c406fe21",
   "metadata": {},
   "outputs": [
    {
     "name": "stdout",
     "output_type": "stream",
     "text": [
      "Epoch 1/30\n",
      "39/39 [==============================] - 1s 8ms/step - loss: 19.7558 - mae: 3.1443 - val_loss: 4.9938 - val_mae: 1.8052\n",
      "Epoch 2/30\n",
      "39/39 [==============================] - 0s 4ms/step - loss: 2.9752 - mae: 1.3745 - val_loss: 2.6805 - val_mae: 1.2733\n",
      "Epoch 3/30\n",
      "39/39 [==============================] - 0s 6ms/step - loss: 3.0689 - mae: 1.3653 - val_loss: 2.4287 - val_mae: 1.2383\n",
      "Epoch 4/30\n",
      "39/39 [==============================] - 0s 5ms/step - loss: 2.7197 - mae: 1.2807 - val_loss: 2.8811 - val_mae: 1.3553\n",
      "Epoch 5/30\n",
      "39/39 [==============================] - 0s 5ms/step - loss: 2.4326 - mae: 1.2167 - val_loss: 2.8701 - val_mae: 1.3049\n",
      "Epoch 6/30\n",
      "39/39 [==============================] - 0s 3ms/step - loss: 2.4816 - mae: 1.2251 - val_loss: 2.8986 - val_mae: 1.3662\n",
      "Epoch 7/30\n",
      "39/39 [==============================] - 0s 4ms/step - loss: 2.6320 - mae: 1.2779 - val_loss: 2.2434 - val_mae: 1.1931\n",
      "Epoch 8/30\n",
      "39/39 [==============================] - 0s 3ms/step - loss: 2.7202 - mae: 1.2809 - val_loss: 2.2946 - val_mae: 1.1867\n",
      "Epoch 9/30\n",
      "39/39 [==============================] - 0s 3ms/step - loss: 2.5062 - mae: 1.2260 - val_loss: 3.0119 - val_mae: 1.3299\n",
      "Epoch 10/30\n",
      "39/39 [==============================] - 0s 4ms/step - loss: 2.4314 - mae: 1.2188 - val_loss: 2.6746 - val_mae: 1.3142\n",
      "Epoch 11/30\n",
      "39/39 [==============================] - 0s 3ms/step - loss: 3.1712 - mae: 1.3718 - val_loss: 2.1860 - val_mae: 1.1730\n",
      "Epoch 12/30\n",
      "39/39 [==============================] - 0s 3ms/step - loss: 2.3213 - mae: 1.2009 - val_loss: 2.3201 - val_mae: 1.1874\n",
      "Epoch 13/30\n",
      "39/39 [==============================] - 0s 3ms/step - loss: 2.4433 - mae: 1.2318 - val_loss: 2.1795 - val_mae: 1.1702\n",
      "Epoch 14/30\n",
      "39/39 [==============================] - 0s 3ms/step - loss: 2.5422 - mae: 1.2550 - val_loss: 2.5475 - val_mae: 1.2702\n",
      "Epoch 15/30\n",
      "39/39 [==============================] - 0s 3ms/step - loss: 2.4837 - mae: 1.2395 - val_loss: 2.4430 - val_mae: 1.2142\n",
      "Epoch 16/30\n",
      "39/39 [==============================] - 0s 3ms/step - loss: 2.8661 - mae: 1.3207 - val_loss: 2.3172 - val_mae: 1.1877\n",
      "Epoch 17/30\n",
      "39/39 [==============================] - 0s 3ms/step - loss: 2.3162 - mae: 1.1949 - val_loss: 2.1127 - val_mae: 1.1496\n",
      "Epoch 18/30\n",
      "39/39 [==============================] - 0s 3ms/step - loss: 2.5146 - mae: 1.2409 - val_loss: 2.6225 - val_mae: 1.2521\n",
      "Epoch 19/30\n",
      "39/39 [==============================] - 0s 3ms/step - loss: 2.4498 - mae: 1.2103 - val_loss: 2.3017 - val_mae: 1.2046\n",
      "Epoch 20/30\n",
      "39/39 [==============================] - 0s 3ms/step - loss: 2.3381 - mae: 1.1952 - val_loss: 2.1576 - val_mae: 1.1506\n",
      "Epoch 21/30\n",
      "39/39 [==============================] - 0s 3ms/step - loss: 2.3590 - mae: 1.1902 - val_loss: 2.1972 - val_mae: 1.1526\n",
      "Epoch 22/30\n",
      "39/39 [==============================] - 0s 3ms/step - loss: 2.7151 - mae: 1.2766 - val_loss: 2.1230 - val_mae: 1.1497\n",
      "Epoch 23/30\n",
      "39/39 [==============================] - 0s 3ms/step - loss: 2.3595 - mae: 1.1918 - val_loss: 2.6842 - val_mae: 1.2678\n",
      "Epoch 24/30\n",
      "39/39 [==============================] - 0s 3ms/step - loss: 2.8738 - mae: 1.3270 - val_loss: 2.1222 - val_mae: 1.1389\n",
      "Epoch 25/30\n",
      "39/39 [==============================] - 0s 3ms/step - loss: 2.3516 - mae: 1.2031 - val_loss: 2.0845 - val_mae: 1.1366\n",
      "Epoch 26/30\n",
      "39/39 [==============================] - 0s 3ms/step - loss: 2.5562 - mae: 1.2394 - val_loss: 2.3469 - val_mae: 1.1894\n",
      "Epoch 27/30\n",
      "39/39 [==============================] - 0s 3ms/step - loss: 2.3445 - mae: 1.1962 - val_loss: 2.1306 - val_mae: 1.1389\n",
      "Epoch 28/30\n",
      "39/39 [==============================] - 0s 3ms/step - loss: 2.3424 - mae: 1.1927 - val_loss: 2.1962 - val_mae: 1.1726\n",
      "Epoch 29/30\n",
      "39/39 [==============================] - 0s 4ms/step - loss: 2.7015 - mae: 1.2783 - val_loss: 2.8226 - val_mae: 1.2915\n",
      "Epoch 30/30\n",
      "39/39 [==============================] - 0s 4ms/step - loss: 2.4375 - mae: 1.2203 - val_loss: 2.2036 - val_mae: 1.1568\n"
     ]
    }
   ],
   "source": [
    "#A데이터로 model_1 학습\n",
    "history = model_1.fit(A_train,\n",
    "                    A_score_train,\n",
    "                    epochs=30, validation_data=(A_valid,A_score_valid))"
   ]
  },
  {
   "cell_type": "code",
   "execution_count": 89,
   "id": "32286e3a",
   "metadata": {},
   "outputs": [
    {
     "name": "stdout",
     "output_type": "stream",
     "text": [
      "Epoch 1/30\n",
      "39/39 [==============================] - 0s 4ms/step - loss: 2.5149 - mae: 1.2379 - val_loss: 2.3799 - val_mae: 1.2215\n",
      "Epoch 2/30\n",
      "39/39 [==============================] - 0s 3ms/step - loss: 2.9657 - mae: 1.3106 - val_loss: 2.5986 - val_mae: 1.2920\n",
      "Epoch 3/30\n",
      "39/39 [==============================] - 0s 3ms/step - loss: 2.5237 - mae: 1.2456 - val_loss: 2.3571 - val_mae: 1.1959\n",
      "Epoch 4/30\n",
      "39/39 [==============================] - 0s 3ms/step - loss: 2.4826 - mae: 1.2259 - val_loss: 2.6486 - val_mae: 1.2891\n",
      "Epoch 5/30\n",
      "39/39 [==============================] - 0s 4ms/step - loss: 2.7389 - mae: 1.3051 - val_loss: 4.6580 - val_mae: 1.7250\n",
      "Epoch 6/30\n",
      "39/39 [==============================] - 0s 3ms/step - loss: 2.8181 - mae: 1.2947 - val_loss: 3.4313 - val_mae: 1.4738\n",
      "Epoch 7/30\n",
      "39/39 [==============================] - 0s 4ms/step - loss: 2.5446 - mae: 1.2403 - val_loss: 2.5954 - val_mae: 1.2775\n",
      "Epoch 8/30\n",
      "39/39 [==============================] - 0s 3ms/step - loss: 2.4771 - mae: 1.2240 - val_loss: 2.5218 - val_mae: 1.2254\n",
      "Epoch 9/30\n",
      "39/39 [==============================] - 0s 3ms/step - loss: 2.7915 - mae: 1.2772 - val_loss: 2.3434 - val_mae: 1.2088\n",
      "Epoch 10/30\n",
      "39/39 [==============================] - 0s 4ms/step - loss: 2.5758 - mae: 1.2428 - val_loss: 2.5035 - val_mae: 1.2576\n",
      "Epoch 11/30\n",
      "39/39 [==============================] - 0s 3ms/step - loss: 2.3843 - mae: 1.2006 - val_loss: 3.2363 - val_mae: 1.3923\n",
      "Epoch 12/30\n",
      "39/39 [==============================] - 0s 3ms/step - loss: 2.6281 - mae: 1.2496 - val_loss: 4.5380 - val_mae: 1.6870\n",
      "Epoch 13/30\n",
      "39/39 [==============================] - 0s 3ms/step - loss: 2.7737 - mae: 1.2808 - val_loss: 2.4032 - val_mae: 1.2271\n",
      "Epoch 14/30\n",
      "39/39 [==============================] - 0s 3ms/step - loss: 2.4658 - mae: 1.2242 - val_loss: 2.3232 - val_mae: 1.1980\n",
      "Epoch 15/30\n",
      "39/39 [==============================] - 0s 3ms/step - loss: 2.4547 - mae: 1.2154 - val_loss: 2.3779 - val_mae: 1.2216\n",
      "Epoch 16/30\n",
      "39/39 [==============================] - 0s 3ms/step - loss: 2.8069 - mae: 1.2884 - val_loss: 2.8683 - val_mae: 1.3361\n",
      "Epoch 17/30\n",
      "39/39 [==============================] - 0s 3ms/step - loss: 2.4726 - mae: 1.2204 - val_loss: 2.4501 - val_mae: 1.2382\n",
      "Epoch 18/30\n",
      "39/39 [==============================] - 0s 3ms/step - loss: 2.5652 - mae: 1.2351 - val_loss: 3.4115 - val_mae: 1.4814\n",
      "Epoch 19/30\n",
      "39/39 [==============================] - 0s 3ms/step - loss: 2.5770 - mae: 1.2439 - val_loss: 2.8073 - val_mae: 1.3312\n",
      "Epoch 20/30\n",
      "39/39 [==============================] - 0s 3ms/step - loss: 2.5442 - mae: 1.2377 - val_loss: 2.7879 - val_mae: 1.2861\n",
      "Epoch 21/30\n",
      "39/39 [==============================] - 0s 3ms/step - loss: 2.6722 - mae: 1.2631 - val_loss: 3.0567 - val_mae: 1.3487\n",
      "Epoch 22/30\n",
      "39/39 [==============================] - 0s 3ms/step - loss: 2.6912 - mae: 1.2619 - val_loss: 2.4150 - val_mae: 1.2040\n",
      "Epoch 23/30\n",
      "39/39 [==============================] - 0s 3ms/step - loss: 2.4150 - mae: 1.2071 - val_loss: 2.3909 - val_mae: 1.2281\n",
      "Epoch 24/30\n",
      "39/39 [==============================] - 0s 3ms/step - loss: 2.4754 - mae: 1.2204 - val_loss: 2.5811 - val_mae: 1.2872\n",
      "Epoch 25/30\n",
      "39/39 [==============================] - 0s 4ms/step - loss: 2.3995 - mae: 1.2006 - val_loss: 2.9318 - val_mae: 1.3594\n",
      "Epoch 26/30\n",
      "39/39 [==============================] - 0s 4ms/step - loss: 3.0616 - mae: 1.3554 - val_loss: 3.3649 - val_mae: 1.4800\n",
      "Epoch 27/30\n",
      "39/39 [==============================] - 0s 4ms/step - loss: 2.8027 - mae: 1.3030 - val_loss: 2.6531 - val_mae: 1.2606\n",
      "Epoch 28/30\n",
      "39/39 [==============================] - 0s 4ms/step - loss: 2.6225 - mae: 1.2471 - val_loss: 2.3705 - val_mae: 1.2057\n",
      "Epoch 29/30\n",
      "39/39 [==============================] - 0s 4ms/step - loss: 2.4813 - mae: 1.2260 - val_loss: 2.8084 - val_mae: 1.3279\n",
      "Epoch 30/30\n",
      "39/39 [==============================] - 0s 4ms/step - loss: 2.4249 - mae: 1.2164 - val_loss: 2.3824 - val_mae: 1.2146\n"
     ]
    }
   ],
   "source": [
    "#B데이터로 model_1 학습 \n",
    "history = model_1.fit(B_train,\n",
    "                    B_score_train,\n",
    "                    epochs=30, validation_data=(B_valid,B_score_valid))"
   ]
  },
  {
   "cell_type": "code",
   "execution_count": 90,
   "id": "9add7e0d",
   "metadata": {
    "scrolled": true
   },
   "outputs": [
    {
     "name": "stdout",
     "output_type": "stream",
     "text": [
      "Epoch 1/30\n",
      "39/39 [==============================] - 1s 9ms/step - loss: 0.6895 - accuracy: 0.6786 - val_loss: 0.4689 - val_accuracy: 0.7630\n",
      "Epoch 2/30\n",
      "39/39 [==============================] - 0s 4ms/step - loss: 0.4171 - accuracy: 0.8084 - val_loss: 0.3653 - val_accuracy: 0.8312\n",
      "Epoch 3/30\n",
      "39/39 [==============================] - 0s 8ms/step - loss: 0.3441 - accuracy: 0.8450 - val_loss: 0.3099 - val_accuracy: 0.8734\n",
      "Epoch 4/30\n",
      "39/39 [==============================] - 0s 6ms/step - loss: 0.3202 - accuracy: 0.8547 - val_loss: 0.3114 - val_accuracy: 0.8571\n",
      "Epoch 5/30\n",
      "39/39 [==============================] - 0s 4ms/step - loss: 0.3222 - accuracy: 0.8620 - val_loss: 0.2698 - val_accuracy: 0.8831\n",
      "Epoch 6/30\n",
      "39/39 [==============================] - 0s 5ms/step - loss: 0.3573 - accuracy: 0.8401 - val_loss: 0.3350 - val_accuracy: 0.8539\n",
      "Epoch 7/30\n",
      "39/39 [==============================] - 0s 5ms/step - loss: 0.3253 - accuracy: 0.8506 - val_loss: 0.2786 - val_accuracy: 0.8734\n",
      "Epoch 8/30\n",
      "39/39 [==============================] - 0s 5ms/step - loss: 0.2980 - accuracy: 0.8734 - val_loss: 0.2612 - val_accuracy: 0.8831\n",
      "Epoch 9/30\n",
      "39/39 [==============================] - 0s 5ms/step - loss: 0.2882 - accuracy: 0.8701 - val_loss: 0.2564 - val_accuracy: 0.8929\n",
      "Epoch 10/30\n",
      "39/39 [==============================] - 0s 4ms/step - loss: 0.2979 - accuracy: 0.8758 - val_loss: 0.2495 - val_accuracy: 0.8929\n",
      "Epoch 11/30\n",
      "39/39 [==============================] - 0s 5ms/step - loss: 0.2969 - accuracy: 0.8726 - val_loss: 0.2561 - val_accuracy: 0.8864\n",
      "Epoch 12/30\n",
      "39/39 [==============================] - 0s 5ms/step - loss: 0.2959 - accuracy: 0.8677 - val_loss: 0.3641 - val_accuracy: 0.8409\n",
      "Epoch 13/30\n",
      "39/39 [==============================] - 0s 6ms/step - loss: 0.3479 - accuracy: 0.8515 - val_loss: 0.2853 - val_accuracy: 0.8734\n",
      "Epoch 14/30\n",
      "39/39 [==============================] - 0s 4ms/step - loss: 0.2987 - accuracy: 0.8693 - val_loss: 0.2555 - val_accuracy: 0.8864\n",
      "Epoch 15/30\n",
      "39/39 [==============================] - 0s 4ms/step - loss: 0.2817 - accuracy: 0.8774 - val_loss: 0.2571 - val_accuracy: 0.8766\n",
      "Epoch 16/30\n",
      "39/39 [==============================] - 0s 4ms/step - loss: 0.3537 - accuracy: 0.8385 - val_loss: 0.2990 - val_accuracy: 0.8539\n",
      "Epoch 17/30\n",
      "39/39 [==============================] - 0s 4ms/step - loss: 0.2788 - accuracy: 0.8807 - val_loss: 0.2508 - val_accuracy: 0.8929\n",
      "Epoch 18/30\n",
      "39/39 [==============================] - 0s 4ms/step - loss: 0.2694 - accuracy: 0.8774 - val_loss: 0.2597 - val_accuracy: 0.8961\n",
      "Epoch 19/30\n",
      "39/39 [==============================] - 0s 4ms/step - loss: 0.3029 - accuracy: 0.8653 - val_loss: 0.2678 - val_accuracy: 0.8961\n",
      "Epoch 20/30\n",
      "39/39 [==============================] - 0s 5ms/step - loss: 0.2727 - accuracy: 0.8766 - val_loss: 0.2905 - val_accuracy: 0.8701\n",
      "Epoch 21/30\n",
      "39/39 [==============================] - 0s 4ms/step - loss: 0.2815 - accuracy: 0.8758 - val_loss: 0.2630 - val_accuracy: 0.8864\n",
      "Epoch 22/30\n",
      "39/39 [==============================] - 0s 5ms/step - loss: 0.3021 - accuracy: 0.8693 - val_loss: 0.3084 - val_accuracy: 0.8604\n",
      "Epoch 23/30\n",
      "39/39 [==============================] - 0s 5ms/step - loss: 0.2779 - accuracy: 0.8791 - val_loss: 0.2723 - val_accuracy: 0.8766\n",
      "Epoch 24/30\n",
      "39/39 [==============================] - 0s 4ms/step - loss: 0.2734 - accuracy: 0.8750 - val_loss: 0.2466 - val_accuracy: 0.8961\n",
      "Epoch 25/30\n",
      "39/39 [==============================] - 0s 4ms/step - loss: 0.2986 - accuracy: 0.8750 - val_loss: 0.2501 - val_accuracy: 0.8929\n",
      "Epoch 26/30\n",
      "39/39 [==============================] - 0s 4ms/step - loss: 0.2697 - accuracy: 0.8750 - val_loss: 0.2398 - val_accuracy: 0.8961\n",
      "Epoch 27/30\n",
      "39/39 [==============================] - 0s 4ms/step - loss: 0.2622 - accuracy: 0.8807 - val_loss: 0.2461 - val_accuracy: 0.8929\n",
      "Epoch 28/30\n",
      "39/39 [==============================] - 0s 4ms/step - loss: 0.2765 - accuracy: 0.8815 - val_loss: 0.2444 - val_accuracy: 0.8961\n",
      "Epoch 29/30\n",
      "39/39 [==============================] - 0s 7ms/step - loss: 0.3048 - accuracy: 0.8815 - val_loss: 0.2478 - val_accuracy: 0.8929\n",
      "Epoch 30/30\n",
      "39/39 [==============================] - 0s 3ms/step - loss: 0.2604 - accuracy: 0.8872 - val_loss: 0.2457 - val_accuracy: 0.8831\n"
     ]
    }
   ],
   "source": [
    "#X데이터로 model_2 학습\n",
    "history = model_2.fit(x_train,winlose_target_train, epochs=30, validation_data=(x_val,winlose_target_valid))"
   ]
  },
  {
   "cell_type": "markdown",
   "id": "72e472c7",
   "metadata": {},
   "source": [
    "## 모델 평가"
   ]
  },
  {
   "cell_type": "code",
   "execution_count": 91,
   "id": "c2fb1ff5",
   "metadata": {},
   "outputs": [
    {
     "name": "stdout",
     "output_type": "stream",
     "text": [
      "13/13 [==============================] - 0s 1ms/step - loss: 2.5039 - mae: 1.2305\n",
      "13/13 [==============================] - 0s 2ms/step - loss: 0.2863 - accuracy: 0.9091\n"
     ]
    },
    {
     "data": {
      "text/plain": [
       "[0.28634652495384216, 0.9090909361839294]"
      ]
     },
     "execution_count": 91,
     "metadata": {},
     "output_type": "execute_result"
    }
   ],
   "source": [
    "model_1.evaluate(A_test,A_score_test)\n",
    "model_2.evaluate(X_test,winlose_target_test)"
   ]
  },
  {
   "cell_type": "markdown",
   "id": "193e70d2",
   "metadata": {},
   "source": [
    "## 모델 저장"
   ]
  },
  {
   "cell_type": "code",
   "execution_count": 92,
   "id": "1fe12756",
   "metadata": {},
   "outputs": [],
   "source": [
    "#모델 저장\n",
    "model_1.save('score_predict_model.h5')\n",
    "model_2.save('win_lose_predict_model.h5')\n"
   ]
  },
  {
   "cell_type": "markdown",
   "id": "e168bdf1",
   "metadata": {},
   "source": [
    "## 예측\n",
    "- 학습하지 않은 22년 10월 8일 3경기의 데이터를 예측하고자 한다.\n",
    "- 단 이때 22년 10월 8일의 경기가 진행되지 않음을 가정하고 예측을 진행한다. 스코어예측이나 점수예측은 주로 경기 전에 진행되는\n",
    "  특성을 따른 것.\n",
    "- 때문에 모델에 input으로 들어가는 데이터는 각 구단의 직전 3경기의 평균값을 입력하고 실제 22년 10월 8일의 데이터와 비교한다.\n",
    "- 선발투수는 경기전 확정된 선발투수의 데이터로 입력값을 넣는다(직전 3경기 평균값X 당일 데이터O)\n",
    "|22-10-8|A구단 점수|B구단 점수|\n",
    "|------|----------|----------|\n",
    "|SSG(A) : 삼성(B)|1|6|\n",
    "|키움 : 두산|5|1|\n",
    "|한화 : NC|5|6|\n"
   ]
  },
  {
   "cell_type": "code",
   "execution_count": 93,
   "id": "c2ddeeb3",
   "metadata": {
    "scrolled": false
   },
   "outputs": [
    {
     "name": "stdout",
     "output_type": "stream",
     "text": [
      "1/1 [==============================] - 0s 218ms/step\n",
      "1/1 [==============================] - 0s 199ms/step\n",
      "1/1 [==============================] - 0s 55ms/step\n",
      "1/1 [==============================] - 0s 166ms/step\n",
      "1/1 [==============================] - 0s 83ms/step\n",
      "1/1 [==============================] - 0s 72ms/step\n",
      "SSG 예측점수:[1.6119151]\n",
      "삼성 예측점수:[5.1620493]\n",
      "두산 예측점수:[3.860777]\n",
      "키움 예측점수:[6.276722]\n",
      "한화 예측점수:[4.0603266]\n",
      "NC 예측점수:[3.9604685]\n",
      "삼성-승, SSG-패\n",
      "두산-승, 키움-패\n",
      "한화-승, NC-패\n",
      "=======================================================\n",
      "[[0.9621753]]\n",
      "[[0.09099566]]\n",
      "[[0.6634263]]\n"
     ]
    }
   ],
   "source": [
    "#예측1 SSG:삼성\n",
    "SSG =[36.3,33.6,6.6,1,2.3,0,9.6,10,7.6,0.196,0.153,18,2.49,1.16]\n",
    "samsung = [41.6,38.6,12.6,0.3,2.3,0,8,8.6,9.3,0.325,0.252,19,6.00,1.52]\n",
    "dusan = [34.6,32.6,9.3,1,1.3,0,6.3,8,9,0.282,0.213,11.6,3.60,1.33]\n",
    "kiwum = [50,44,12,1,5.3,0.6,8.6,11.6,11.6,0.268,0.213,21.6,2.11,0.95]\n",
    "hanwha = [42.6,34.6,9,0,5.6,1,6.3,10.6,9,0.258,0.201,24.6,4.75,1.42]\n",
    "NC = [34.3,30.6,6.6,0.3,3,2,8.6,9,7,0.216,0.198,11.6,10.64,1.91]\n",
    "\n",
    "score_SSG_samsung =model_1.predict([SSG,samsung])\n",
    "score_dusan_kiwum =model_1.predict([dusan,kiwum])\n",
    "score_hanwha_NC =model_1.predict([hanwha,NC])\n",
    "winlose_SSG_samsung= model_2.predict([[36.3,33.6,6.6,1,2.3,0,9.6,10,7.6,0.196,0.153,18,2.49,1.16,41.6,38.6,12.6,0.3,2.3,0,8,8.6,9.3,0.325,0.252,19,6.00,1.52]])\n",
    "winlose_dusan_kiwum = model_2.predict([[34.6,32.6,9.3,1,1.3,0,6.3,8,9,0.282,0.213,11.6,3.60,1.33,50,44,12,1,5.3,0.6,8.6,11.6,11.6,0.268,0.213,21.6,2.11,0.95]])\n",
    "winlose_hanwha_NC = model_2.predict([[42.6,34.6,9,0,5.6,1,6.3,10.6,9,0.258,0.201,24.6,4.75,1.42,34.3,30.6,6.6,0.3,3,2,8.6,9,7,0.216,0.198,11.6,10.64,1.91]])\n",
    "print(f\"SSG 예측점수:{score_SSG_samsung[0]}\")\n",
    "print(f\"삼성 예측점수:{score_SSG_samsung[1]}\")\n",
    "print(f\"두산 예측점수:{score_dusan_kiwum[0]}\")\n",
    "print(f\"키움 예측점수:{score_dusan_kiwum[1]}\")\n",
    "print(f\"한화 예측점수:{score_hanwha_NC[0]}\")\n",
    "print(f\"NC 예측점수:{score_hanwha_NC[1]}\")\n",
    "if winlose_SSG_samsung < 0.5:\n",
    "    print(\"SSG-승, 삼성-패\")\n",
    "else:\n",
    "    print(\"삼성-승, SSG-패\")\n",
    "\n",
    "if winlose_dusan_kiwum < 0.5:\n",
    "    print(\"두산-승, 키움-패\")\n",
    "else:\n",
    "    print(\"키움-승, 두산-패\")\n",
    "    \n",
    "if winlose_dusan_kiwum < 0.5:\n",
    "    print(\"한화-승, NC-패\")\n",
    "else:\n",
    "    print(\"NC-승, 한화-패\")\n",
    "print(\"=======================================================\")\n",
    "print(winlose_SSG_samsung)\n",
    "print(winlose_dusan_kiwum)\n",
    "print(winlose_hanwha_NC)\n"
   ]
  },
  {
   "cell_type": "code",
   "execution_count": null,
   "id": "3a31b285",
   "metadata": {},
   "outputs": [],
   "source": []
  }
 ],
 "metadata": {
  "kernelspec": {
   "display_name": "Python 3 (ipykernel)",
   "language": "python",
   "name": "python3"
  },
  "language_info": {
   "codemirror_mode": {
    "name": "ipython",
    "version": 3
   },
   "file_extension": ".py",
   "mimetype": "text/x-python",
   "name": "python",
   "nbconvert_exporter": "python",
   "pygments_lexer": "ipython3",
   "version": "3.9.13"
  }
 },
 "nbformat": 4,
 "nbformat_minor": 5
}

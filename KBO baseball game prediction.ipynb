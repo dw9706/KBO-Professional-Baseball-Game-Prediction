{
 "cells": [
  {
   "cell_type": "code",
   "execution_count": 178,
   "id": "e5237078",
   "metadata": {},
   "outputs": [],
   "source": [
    "import pandas as pd\n",
    "from selenium import webdriver\n",
    "from selenium.webdriver.common.by import By\n",
    "from selenium.webdriver.common.keys import Keys"
   ]
  },
  {
   "cell_type": "code",
   "execution_count": 179,
   "id": "c71275d9",
   "metadata": {},
   "outputs": [],
   "source": [
    "#driver = webdriver.Chrome('chromedriver')"
   ]
  },
  {
   "cell_type": "code",
   "execution_count": 180,
   "id": "65323f7b",
   "metadata": {},
   "outputs": [],
   "source": [
    "#driver.quit()"
   ]
  },
  {
   "cell_type": "markdown",
   "id": "b8c46369",
   "metadata": {},
   "source": [
    "# 야구 데이터 지표 용어\n",
    "## 타자\n",
    "1. AVG : 타율\n",
    "2. OPS : 출루율 + 장타율\n",
    "3. LI : 영향력 지표(주어진 상황이 얼마나 중요한가)\n",
    "4. WPA : 승리확율기여"
   ]
  },
  {
   "cell_type": "code",
   "execution_count": 181,
   "id": "13bb3a39",
   "metadata": {},
   "outputs": [],
   "source": [
    "driver = webdriver.Chrome('chromedriver')\n",
    "driver.get(\"http://www.statiz.co.kr/schedule.php?opt=6&sy=2017\")\n",
    "#경기\n",
    "driver.find_element(By.XPATH,\"/html/body/div/div[1]/div/section[2]/div/div[2]/div/div/div/div[2]/table/tbody/tr[2]/td[6]/div[3]/a[4]\").send_keys(Keys.ENTER)\n",
    "#미리보기\n",
    "driver.find_element(By.XPATH,\"/html/body/div[1]/div[1]/div/section[2]/div/div[1]/div/div[3]/div/div[2]/table/tbody/tr/td/a[2]\").send_keys(Keys.ENTER)\n",
    "\n",
    "\n",
    "\n",
    "\n"
   ]
  },
  {
   "cell_type": "code",
   "execution_count": 182,
   "id": "1b66fe25",
   "metadata": {},
   "outputs": [
    {
     "name": "stdout",
     "output_type": "stream",
     "text": [
      "['4.11', '5.44', '1.71', '23', '31']\n"
     ]
    }
   ],
   "source": [
    "#A팀 상대전적 데이터 크롤링\n",
    "#def A_data_crawling():\n",
    "A = []\n",
    "for i in [3,6,7]:\n",
    "    data = driver.find_element(By.XPATH,f\"/html/body/div[1]/div[1]/div/section[2]/div/div[2]/div[1]/div[1]/div/div[2]/table/tbody/tr[{str(i)}]/td[1]\").text\n",
    "    A.append(data)\n",
    "A.append(driver.find_element(By.XPATH,\"/html/body/div[1]/div[1]/div/section[2]/div/div[2]/div[1]/div[2]/div/div[2]/table/tbody/tr[7]/td[1]\").text)\n",
    "\n",
    "#raw 데이터에서 시즌 승패 ,투수 최근 30일 ERA 분리하기, \n",
    "A.append(A[0].split('-')[0])\n",
    "A.append(A[0].split('-')[1])\n",
    "del A[0]\n",
    "A[2]=A[2].split()[3]\n",
    "\n",
    "#A팀 타자 데이터 크롤링 \n",
    "\n",
    "    \n"
   ]
  },
  {
   "cell_type": "code",
   "execution_count": 183,
   "id": "00f31b8c",
   "metadata": {},
   "outputs": [
    {
     "name": "stdout",
     "output_type": "stream",
     "text": [
      "['5.13', '4.88', '7.50', '25', '27']\n"
     ]
    }
   ],
   "source": [
    "#B팀 데이터 크롤링\n",
    "#def B_data_crawling():\n",
    "B = []\n",
    "for i in [3,6,7]:\n",
    "    data = driver.find_element(By.XPATH,f\"/html/body/div[1]/div[1]/div/section[2]/div/div[2]/div[1]/div[1]/div/div[2]/table/tbody/tr[{str(i)}]/td[2]\").text\n",
    "    B.append(data)\n",
    "B.append(driver.find_element(By.XPATH,\"/html/body/div[1]/div[1]/div/section[2]/div/div[2]/div[1]/div[2]/div/div[2]/table/tbody/tr[7]/td[2]\").text)\n",
    "\n",
    "#raw 데이터에서 시즌 승패 ,투수 최근 30일 ERA 분리하기, \n",
    "B.append(B[0].split('-')[0])\n",
    "B.append(B[0].split('-')[1])\n",
    "del B[0]\n",
    "B[2]=B[2].split()[3]\n",
    "\n"
   ]
  },
  {
   "cell_type": "code",
   "execution_count": 184,
   "id": "8750abf7",
   "metadata": {},
   "outputs": [
    {
     "name": "stdout",
     "output_type": "stream",
     "text": [
      "['4.11', '5.44', '1.71', '23', '31']\n",
      "['5.13', '4.88', '7.50', '25', '27']\n"
     ]
    }
   ],
   "source": [
    "print(A)\n",
    "print(B)"
   ]
  },
  {
   "cell_type": "code",
   "execution_count": 185,
   "id": "924c6d9c",
   "metadata": {},
   "outputs": [
    {
     "data": {
      "text/html": [
       "<div>\n",
       "<style scoped>\n",
       "    .dataframe tbody tr th:only-of-type {\n",
       "        vertical-align: middle;\n",
       "    }\n",
       "\n",
       "    .dataframe tbody tr th {\n",
       "        vertical-align: top;\n",
       "    }\n",
       "\n",
       "    .dataframe thead th {\n",
       "        text-align: right;\n",
       "    }\n",
       "</style>\n",
       "<table border=\"1\" class=\"dataframe\">\n",
       "  <thead>\n",
       "    <tr style=\"text-align: right;\">\n",
       "      <th></th>\n",
       "      <th>A_경기당 득점</th>\n",
       "      <th>A_경기당 실점</th>\n",
       "      <th>A_투수30일 ERA</th>\n",
       "      <th>A_시즌 승</th>\n",
       "      <th>A_시즌 패</th>\n",
       "      <th>B_경기당 득점</th>\n",
       "      <th>B_경기당 실점</th>\n",
       "      <th>B_투수30일 ERA</th>\n",
       "      <th>B_시즌 승</th>\n",
       "      <th>B_시즌 패</th>\n",
       "    </tr>\n",
       "  </thead>\n",
       "  <tbody>\n",
       "    <tr>\n",
       "      <th>0</th>\n",
       "      <td>4.11</td>\n",
       "      <td>5.44</td>\n",
       "      <td>1.71</td>\n",
       "      <td>23</td>\n",
       "      <td>31</td>\n",
       "      <td>5.13</td>\n",
       "      <td>4.88</td>\n",
       "      <td>7.50</td>\n",
       "      <td>25</td>\n",
       "      <td>27</td>\n",
       "    </tr>\n",
       "  </tbody>\n",
       "</table>\n",
       "</div>"
      ],
      "text/plain": [
       "  A_경기당 득점 A_경기당 실점 A_투수30일 ERA A_시즌 승 A_시즌 패 B_경기당 득점 B_경기당 실점 B_투수30일 ERA  \\\n",
       "0     4.11     5.44        1.71     23     31     5.13     4.88        7.50   \n",
       "\n",
       "  B_시즌 승 B_시즌 패  \n",
       "0     25     27  "
      ]
     },
     "execution_count": 185,
     "metadata": {},
     "output_type": "execute_result"
    }
   ],
   "source": [
    "df = pd.DataFrame({'A_경기당 득점':A[0],\n",
    "              'A_경기당 실점':A[1],\n",
    "              'A_투수30일 ERA':A[2],\n",
    "              'A_시즌 승':A[3],\n",
    "              'A_시즌 패':A[4],\n",
    "              'B_경기당 득점':B[0],\n",
    "              'B_경기당 실점':B[1],\n",
    "              'B_투수30일 ERA':B[2],\n",
    "              'B_시즌 승':B[3],\n",
    "              'B_시즌 패':B[4],\n",
    "             },index=[0])"
   ]
  }
 ],
 "metadata": {
  "kernelspec": {
   "display_name": "Python 3 (ipykernel)",
   "language": "python",
   "name": "python3"
  },
  "language_info": {
   "codemirror_mode": {
    "name": "ipython",
    "version": 3
   },
   "file_extension": ".py",
   "mimetype": "text/x-python",
   "name": "python",
   "nbconvert_exporter": "python",
   "pygments_lexer": "ipython3",
   "version": "3.9.13"
  }
 },
 "nbformat": 4,
 "nbformat_minor": 5
}
